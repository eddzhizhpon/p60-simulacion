{
 "cells": [
  {
   "cell_type": "markdown",
   "metadata": {},
   "source": [
    "# Prueba 4 - Simulación de Eventos Discretos\n",
    "\n",
    "> Estudiante: Eduardo Zhizhpon <br/>\n",
    "> Fecha: 25/07/2022"
   ]
  },
  {
   "cell_type": "markdown",
   "metadata": {},
   "source": [
    "## Declaración de funciones y clases"
   ]
  },
  {
   "cell_type": "code",
   "execution_count": 101,
   "metadata": {},
   "outputs": [],
   "source": [
    "import random\n",
    "import simpy\n",
    "from scipy import stats\n",
    "import matplotlib.pyplot as plt\n",
    "import numpy as np\n",
    "\n",
    "# Definición de clases\n",
    "\n",
    "class Vehicle():\n",
    "    def __init__(self, name, big_tonnage = False):\n",
    "        self.name = name\n",
    "        self.big_tonnage = big_tonnage\n",
    "        self.fix = False\n",
    "        self.day_fix = 0\n",
    "        \n",
    "        self.from_fix = 0\n",
    "        \n",
    "class Emov():\n",
    "    def __init__(self, env):\n",
    "        \n",
    "        self.env = env\n",
    "        self.big_tonnage_lane = simpy.Resource(self.env, BIG_TONNAGE_LANE_NUM)\n",
    "        self.normal_tonnage_lane = simpy.Resource(self.env, NORMAL_TONNAGE_LANE_NUM)\n",
    "        \n",
    "        self.norm = stats.norm(MU, SIGMA)\n",
    "        \n",
    "        self.bernoulli_fix = stats.bernoulli(FIX_PROB)\n",
    "        self.bernoulli_big_tonnage = stats.bernoulli(BIG_TONNAGE_PROB)\n",
    "        \n",
    "        self.vehicles_to_fix = []\n",
    "        \n",
    "    def get_parked_time(self):\n",
    "        return random.randint(MIN_PACKED, MAX_PACKED)\n",
    "    \n",
    "    def get_ticket_time(self):\n",
    "        return random.randint(MIN_TICKET, MAX_TICKET)\n",
    "    \n",
    "    def get_pay_license_plate_time(self):\n",
    "        return random.randint(MIN_PAY_LICENSE_PLATE, \n",
    "                              MAX_PAY_LICENSE_PLATE)\n",
    "    \n",
    "    def get_revision_time(self):\n",
    "        return abs(self.norm.rvs(1)[0])\n",
    "    \n",
    "    def make_fix(self):\n",
    "        return abs(self.bernoulli_fix.rvs(1))\n",
    "    \n",
    "    def is_big_tonnage(self):\n",
    "        return abs(self.bernoulli_big_tonnage.rvs(1))\n",
    "    \n",
    "    def get_paste_stamp_time(self):\n",
    "        return random.randint(MIN_PASTE_STAMP, \n",
    "                              MAX_PASTE_STAMP)\n",
    "    def get_out_time(self):\n",
    "        return random.randint(MIN_OUT, \n",
    "                              MAX_OUT)\n",
    "        \n",
    "    def sim_process(self, vehicle):\n",
    "        global approved_by_day, vehicles_approved_by_day, \\\n",
    "        process_time, process_time_by_day\n",
    "        \n",
    "        parked_time = self.get_parked_time()\n",
    "        ticket_time = self.get_ticket_time()\n",
    "        pay_license_plate_time = self.get_pay_license_plate_time()\n",
    "        revision_time = self.get_revision_time()\n",
    "        \n",
    "        yield self.env.timeout(parked_time)\n",
    "        yield self.env.timeout(ticket_time)\n",
    "        yield self.env.timeout(pay_license_plate_time)\n",
    "        yield self.env.timeout(revision_time)\n",
    "        \n",
    "        process_time += parked_time \\\n",
    "            + ticket_time \\\n",
    "            + pay_license_plate_time \\\n",
    "            + revision_time\n",
    "        \n",
    "        if self.make_fix() == 0:\n",
    "            vehicle.fix = True\n",
    "            vehicle.day_fix = self.env.now + get_minutes_from_day(2)\n",
    "            vehicle.from_fix = self.env.now\n",
    "            \n",
    "            self.vehicles_to_fix.append(vehicle)\n",
    "            \n",
    "            if 'rejected' not in approved_by_day.keys():\n",
    "                approved_by_day['rejected'] = 0\n",
    "            approved_by_day['rejected'] += 1\n",
    "        else:\n",
    "            paste_stamp_time = self.get_paste_stamp_time()\n",
    "            yield self.env.timeout(paste_stamp_time)\n",
    "            process_time += paste_stamp_time\n",
    "            \n",
    "            if 'approved' not in approved_by_day.keys():\n",
    "                approved_by_day['approved'] = 0\n",
    "            approved_by_day['approved'] += 1\n",
    "            \n",
    "        out_time = self.get_out_time()\n",
    "        yield self.env.timeout(out_time)\n",
    "        process_time += out_time\n",
    "        \n",
    "        if self.env.now >= next_day:\n",
    "            vehicles_approved_by_day[current_day] = approved_by_day\n",
    "            approved_by_day = {}\n",
    "            \n",
    "            process_time_by_day[current_day] = process_time\n",
    "            process_time = 0\n",
    "        \n",
    "# Funciones complementarias\n",
    "\n",
    "def get_values_by_key(key, values):\n",
    "    return [v[key] for k,v in values.items()]\n",
    "\n",
    "def get_minutes_from_day(day):\n",
    "    return 60 * 24 * day\n",
    "    \n",
    "def get_fixed_vehicle(emov):\n",
    "    for i in range(len(emov.vehicles_to_fix)):\n",
    "        if emov.vehicles_to_fix[i].day_fix <= emov.env.now:\n",
    "            vehicle = emov.vehicles_to_fix.pop(i)\n",
    "            vehicle.fix = False\n",
    "            return vehicle\n",
    "        elif emov.vehicles_to_fix[i].from_fix + get_minutes_from_day(1) >= emov.env.now:\n",
    "            emov.vehicles_to_fix[i].day_fix -= get_minutes_from_day(1)\n",
    "            emov.vehicles_to_fix[i].from_fix += get_minutes_from_day(1)\n",
    "    return None        \n",
    "    \n",
    "        \n",
    "def arrival_vehicle(emov):\n",
    "    global ticket, lane_by_day, \\\n",
    "        vehicles_lane_by_day, next_day, \\\n",
    "        current_day\n",
    "    \n",
    "    vehicle = None\n",
    "    vehicle = get_fixed_vehicle(emov)\n",
    "    \n",
    "    if not vehicle:\n",
    "        name = 'Vehicle ' + str(ticket)\n",
    "        vehicle = Vehicle(name)\n",
    "\n",
    "        if emov.is_big_tonnage() == 1:\n",
    "            vehicle.big_tonnage = True\n",
    "        ticket += 1\n",
    "        \n",
    "    if vehicle and vehicle.big_tonnage:\n",
    "        with emov.big_tonnage_lane.request() as big_tonnage:\n",
    "            yield big_tonnage\n",
    "            yield env.process(emov.sim_process(vehicle))\n",
    "            if 'big' not in lane_by_day.keys():\n",
    "                lane_by_day['big'] = 0\n",
    "            lane_by_day['big'] += 1\n",
    "    else:\n",
    "        with emov.normal_tonnage_lane.request() as normal_tonnage:\n",
    "            yield normal_tonnage\n",
    "            yield env.process(emov.sim_process(vehicle))\n",
    "            if 'normal' not in lane_by_day.keys():\n",
    "                lane_by_day['normal'] = 0\n",
    "            lane_by_day['normal'] += 1\n",
    "            \n",
    "    if emov.env.now >= next_day:\n",
    "        next_day = emov.env.now + get_minutes_from_day(1)\n",
    "        vehicles_lane_by_day[current_day] = lane_by_day\n",
    "        lane_by_day = {}\n",
    "        current_day += 1\n",
    "            \n",
    "def start_sim(env):\n",
    "    emov = Emov(env)\n",
    "    \n",
    "    while True:\n",
    "        yield env.timeout(WAIT_TIME_TO_ARRIVAL)\n",
    "        env.process(arrival_vehicle(emov))"
   ]
  },
  {
   "cell_type": "markdown",
   "metadata": {},
   "source": [
    "## Ejecución de la simulación"
   ]
  },
  {
   "cell_type": "code",
   "execution_count": 104,
   "metadata": {
    "scrolled": true
   },
   "outputs": [
    {
     "name": "stdout",
     "output_type": "stream",
     "text": [
      "Simulación terminada\n"
     ]
    }
   ],
   "source": [
    "# Variables constantes\n",
    "\n",
    "BIG_TONNAGE_LANE_NUM = 1 # Cantidad de carriles para tonelaje grande\n",
    "NORMAL_TONNAGE_LANE_NUM = 2 # Cantidad de carriles para tonelaje normal\n",
    "\n",
    "MIN_PACKED = 3 # Tiempo mínimo de parqueo\n",
    "MAX_PACKED = 5 # Tiempo máximo de parqueo\n",
    "\n",
    "MIN_TICKET = 1 # Tiempo mínimo para obtener el ticket\n",
    "MAX_TICKET = 3 # Tiempo máximo para obtener el ticket\n",
    "\n",
    "MIN_PAY_LICENSE_PLATE = 5 # Tiempo mínimo para pagar la matrícula\n",
    "MAX_PAY_LICENSE_PLATE = 10 # Tiempo máximo para pagar la matrícula\n",
    "\n",
    "MIN_PASTE_STAMP = 1 # Tiempo mínimo para pegar la etiqueta\n",
    "MAX_PASTE_STAMP = 3 # Tiempo máximo para pegar la etiqueta\n",
    "\n",
    "MIN_OUT = 5 # Tiempo mínimo para salir\n",
    "MAX_OUT = 10 # Tiempo máximo para salir\n",
    "\n",
    "MU = 20 # Media de revisión\n",
    "SIGMA = 10 # Desviación estándar para la revisión\n",
    "\n",
    "FIX_PROB = 0.6 # Probabilidad de aceptar un vehículo sin arreglo\n",
    "\n",
    "BIG_TONNAGE_PROB = 0.15 # Probabilidad de generar un vehículo de tonelaje grande\n",
    "\n",
    "WAIT_TIME_TO_ARRIVAL = 3 # Tiempo de espera para generar vehículos\n",
    "\n",
    "SIM_DAYS = 30 # Días de simulación\n",
    "\n",
    "SIM_TIME = get_minutes_from_day(SIM_DAYS + 1) # Tiempo de simulación total\n",
    "\n",
    "\n",
    "# Variables globales\n",
    "\n",
    "\n",
    "current_day = 0 # Día de simulación\n",
    "\n",
    "ticket = 0 # Número de ticket\n",
    "next_day = get_minutes_from_day(1) # Para detectar cuando se termina el día\n",
    "\n",
    "# Para almacenar los vehículos normales o de tonelaje grande\n",
    "lane_by_day = {}\n",
    "vehicles_lane_by_day = {}\n",
    "\n",
    "# Para almacenar los vehículos aprobados o rechazados\n",
    "approved_by_day = {}\n",
    "vehicles_approved_by_day = {}\n",
    "\n",
    "# Para almacenar el tiempo de proceso de la matrícula\n",
    "process_time = 0\n",
    "process_time_by_day = {}\n",
    "\n",
    "# Inicio de la simulación\n",
    "env = simpy.Environment()\n",
    "env.process(start_sim(env))\n",
    "env.run(until=SIM_TIME)\n",
    "print('Simulación terminada')"
   ]
  },
  {
   "cell_type": "markdown",
   "metadata": {},
   "source": [
    "## Gráficas de los resultados"
   ]
  },
  {
   "cell_type": "markdown",
   "metadata": {},
   "source": [
    "**Cantidad de vehículos de tonelaje normal o grande por día**"
   ]
  },
  {
   "cell_type": "code",
   "execution_count": 105,
   "metadata": {},
   "outputs": [
    {
     "data": {
      "image/png": "[encoded data removed]",
      "text/plain": [
       "<Figure size 864x576 with 1 Axes>"
      ]
     },
     "metadata": {
      "needs_background": "light"
     },
     "output_type": "display_data"
    }
   ],
   "source": [
    "y_normal = get_values_by_key('normal', vehicles_lane_by_day)\n",
    "y_big = get_values_by_key('big', vehicles_lane_by_day)\n",
    "x = np.array(list(vehicles_lane_by_day.keys()))\n",
    "\n",
    "fig, ax = plt.subplots(figsize=(12, 8))\n",
    "ax.bar(x - 0.2, y_normal, 0.4, label='Tonelaje Normal')\n",
    "ax.bar(x + 0.2, y_big, 0.4, label='Tonelaje Grande')\n",
    "ax.set_xlabel('Día simulado')\n",
    "ax.set_ylabel('Cantidad de vehículos')\n",
    "ax.set_title('Cantidad de vehículos de tonelaje normal o grande por Día')\n",
    "plt.legend(['Tonelaje Normal', 'Tonelaje Grande'])\n",
    "plt.show()"
   ]
  },
  {
   "cell_type": "markdown",
   "metadata": {},
   "source": [
    "**Cantidad de vehículos aceptados o rechazados por día**"
   ]
  },
  {
   "cell_type": "code",
   "execution_count": 106,
   "metadata": {},
   "outputs": [
    {
     "data": {
      "image/png": "[encoded data removed]",
      "text/plain": [
       "<Figure size 864x576 with 1 Axes>"
      ]
     },
     "metadata": {
      "needs_background": "light"
     },
     "output_type": "display_data"
    }
   ],
   "source": [
    "y_approved = get_values_by_key('approved', vehicles_approved_by_day)\n",
    "y_rejected = get_values_by_key('rejected', vehicles_approved_by_day)\n",
    "x = np.array(list(vehicles_approved_by_day.keys()))\n",
    "\n",
    "fig, ax = plt.subplots(figsize=(12, 8))\n",
    "ax.bar(x - 0.2, y_approved, 0.4)\n",
    "ax.bar(x + 0.2, y_rejected, 0.4)\n",
    "ax.set_xlabel('Día simulado')\n",
    "ax.set_ylabel('Cantidad de vehículos')\n",
    "ax.set_title('Cantidad de vehículos aceptados o rechazados por Día')\n",
    "plt.legend(['Aceptados', 'Rechazados'])\n",
    "plt.show()"
   ]
  },
  {
   "cell_type": "markdown",
   "metadata": {},
   "source": [
    "**Tiempo del proceso de matriculación de vehículos por día**"
   ]
  },
  {
   "cell_type": "code",
   "execution_count": 107,
   "metadata": {},
   "outputs": [
    {
     "data": {
      "image/png": "[encoded data removed]",
      "text/plain": [
       "<Figure size 720x432 with 1 Axes>"
      ]
     },
     "metadata": {
      "needs_background": "light"
     },
     "output_type": "display_data"
    }
   ],
   "source": [
    "x = list(process_time_by_day.keys())\n",
    "y_process = list(process_time_by_day.values())\n",
    "\n",
    "fig, ax = plt.subplots(figsize=(10, 6))\n",
    "ax.bar(x, y_process)\n",
    "ax.set_xlabel('Día simulado')\n",
    "ax.set_ylabel('Tiempo [Minutos]')\n",
    "ax.set_title('Tiempo de matriculación de vehículos por Día')\n",
    "plt.legend(['Tiempo'])\n",
    "plt.show()"
   ]
  },
  {
   "cell_type": "code",
   "execution_count": null,
   "metadata": {},
   "outputs": [],
   "source": []
  }
 ],
 "metadata": {
  "kernelspec": {
   "display_name": "Python 3 (ipykernel)",
   "language": "python",
   "name": "python3"
  },
  "language_info": {
   "codemirror_mode": {
    "name": "ipython",
    "version": 3
   },
   "file_extension": ".py",
   "mimetype": "text/x-python",
   "name": "python",
   "nbconvert_exporter": "python",
   "pygments_lexer": "ipython3",
   "version": "3.10.4"
  }
 },
 "nbformat": 4,
 "nbformat_minor": 4
}
