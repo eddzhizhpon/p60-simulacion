{
 "cells": [
  {
   "cell_type": "markdown",
   "metadata": {
    "id": "s6ZJQrtqN_4Z"
   },
   "source": [
    "# Tausworthe - Generación de Números Pseudoaleatorios\n",
    "> Asignatura: Simulación<br/>\n",
    "> Estudiante: Eduardo Zhizhpon"
   ]
  },
  {
   "cell_type": "code",
   "execution_count": null,
   "metadata": {
    "id": "4j5Z77RQghlR"
   },
   "outputs": [],
   "source": [
    "# Obtiene los segmentos de bits\n",
    "def get_bits(b, current_idx, l):\n",
    "  n = len(b)\n",
    "  end_idx = current_idx + l\n",
    "  remaining = None\n",
    "  if current_idx >= n:\n",
    "    current_idx = 0\n",
    "  if end_idx > n:\n",
    "    remaining = end_idx - n\n",
    "  if remaining:\n",
    "    bits = b[current_idx: n] + b[0:remaining]\n",
    "    current_idx = remaining\n",
    "  else:\n",
    "    bits = b[current_idx: end_idx]\n",
    "  return (bits, current_idx)"
   ]
  },
  {
   "cell_type": "code",
   "execution_count": null,
   "metadata": {
    "colab": {
     "base_uri": "https://localhost:8080/"
    },
    "id": "IOtaU51AO12A",
    "outputId": "80157778-baa7-45a7-8b94-efe62b466781"
   },
   "outputs": [
    {
     "name": "stdout",
     "output_type": "stream",
     "text": [
      "Ingrese el valor q: 5\n",
      "Ingrese el valor r: 3\n",
      "Ingrese el valor l: 4\n",
      "Ingrese los 5 valores de b (semilla): 11111\n",
      "Ingrese la cantidad de iteraciones: 9\n",
      "Periodo = 31\n",
      "Conjunto de bits (b): 1111100011011101010000100101100 \n",
      "\n",
      "Seg. Bits \tDEC. / 2^l \tN. Aleatorio\n",
      "1111 \t\t15/16 \t\t0.9375\n",
      "1000 \t\t8/16 \t\t0.5\n",
      "1101 \t\t13/16 \t\t0.8125\n",
      "1101 \t\t13/16 \t\t0.8125\n",
      "0100 \t\t4/16 \t\t0.25\n",
      "0010 \t\t2/16 \t\t0.125\n",
      "0101 \t\t5/16 \t\t0.3125\n",
      "1001 \t\t9/16 \t\t0.5625\n",
      "0001 \t\t1/16 \t\t0.0625\n"
     ]
    }
   ],
   "source": [
    "# Ingreso de parámetros\n",
    "q = int(input('Ingrese el valor q: '))\n",
    "r = int(input('Ingrese el valor r: '))\n",
    "l = int(input('Ingrese el valor l: '))\n",
    "b_seed = ''\n",
    "while len(b_seed) != q:\n",
    "  b_seed = input(f'Ingrese los {q} valores de b (semilla): ')\n",
    "iterations = int(input('Ingrese la cantidad de iteraciones: '))\n",
    "\n",
    "# Generación del conjunto de bits (b)\n",
    "period = 2**q - 1\n",
    "print(f'Periodo = {period}')\n",
    "b = b_seed\n",
    "for i in range(q, period):\n",
    "  b_n = int(b[i - r]) ^ int(b[i - q])\n",
    "  b += str(b_n)\n",
    "print(f'Conjunto de bits (b): {b} \\n')\n",
    "\n",
    "# Generación de números aleatorios\n",
    "print('Seg. Bits \\tDEC. / 2^l \\tN. Aleatorio')\n",
    "idx = 0\n",
    "for i in range(iterations):\n",
    "  bits, idx = get_bits(b, idx, l)\n",
    "  idx += l\n",
    "  dec = int(bits, 2)\n",
    "  random_num = dec/2**l\n",
    "  print(f'{bits} \\t\\t{dec}/{2**l} \\t\\t{random_num}')"
   ]
  },
  {
   "cell_type": "code",
   "execution_count": null,
   "metadata": {
    "id": "ARvSA8ljh7Zh"
   },
   "outputs": [],
   "source": []
  }
 ],
 "metadata": {
  "colab": {
   "collapsed_sections": [],
   "name": "python-algoritmo-Tausworthe.ipynb",
   "provenance": []
  },
  "kernelspec": {
   "display_name": "Python 3 (ipykernel)",
   "language": "python",
   "name": "python3"
  },
  "language_info": {
   "codemirror_mode": {
    "name": "ipython",
    "version": 3
   },
   "file_extension": ".py",
   "mimetype": "text/x-python",
   "name": "python",
   "nbconvert_exporter": "python",
   "pygments_lexer": "ipython3",
   "version": "3.10.4"
  }
 },
 "nbformat": 4,
 "nbformat_minor": 1
}
