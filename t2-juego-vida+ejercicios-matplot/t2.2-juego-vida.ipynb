{
 "cells": [
  {
   "cell_type": "markdown",
   "metadata": {},
   "source": [
    "# Tarea 2 - Juego de la Vida\n",
    "> Estudiante: Eduardo Zhizhpón<br/>\n",
    "> Asignatura: Simulación"
   ]
  },
  {
   "cell_type": "markdown",
   "metadata": {},
   "source": [
    "## Emplear el programa \"Juego de la Vida\" de John Conway para realizar el siguiente proceso de simulación."
   ]
  },
  {
   "cell_type": "markdown",
   "metadata": {},
   "source": [
    "### 1. Determinar las variables que rigen el sistema"
   ]
  },
  {
   "cell_type": "markdown",
   "metadata": {},
   "source": [
    "De acuerdo con [1], este juego se basa en cuatro reglas que determinan si un \"individuo\" muere, sobrevive o se convierta en una \"población\". Estas reglas son:\n",
    "\n",
    "* Cada celda sin o con un vecino muere.\n",
    "* Cada celda con cuatro o más vecinos muere.\n",
    "* Cada celda con dos o tres vecinos sobrevive.\n",
    "* Cada celda con tres vecinos se convierte en \"poblado\"."
   ]
  },
  {
   "cell_type": "markdown",
   "metadata": {},
   "source": [
    "### 2. Diseñar un plan de simulación que permita llegar a una configuración en que los autómatas celulares no varíen y que crezcan"
   ]
  },
  {
   "cell_type": "markdown",
   "metadata": {},
   "source": [
    "Teniendo en cuenta las reglas planteadas anteriormente, el plan de simulación para que las celdas no varíen consiste en lo siguiente.\n",
    "\n",
    "* Una celda pintada debe tener dos vecinos.\n",
    "* No tener tres vecinos para evitar la \"población\".\n",
    "* Una celda pintada no debe tener cuatro o más vecinos.\n",
    "* Una celda sin pintar, que se involucre en una población, debe tener cuatro o más vecinos.\n",
    "\n",
    "Y para que los \"individuos\" se expandan, sería necesario contemplar lo siguiente.\n",
    "\n",
    "* Una celda puntada debe tener dos vecinos.\n",
    "* Una celda pintada no debe tener igual o más de cuatro vecinos.\n",
    "* Tener tres vecinos para generar poblaciones.\n"
   ]
  },
  {
   "cell_type": "markdown",
   "metadata": {},
   "source": [
    "### 3. Diseñar un plan de pruebas automatizado, es decir, que sea controlado por el ordenador y que permita lanzar una batería de experimentos"
   ]
  },
  {
   "cell_type": "markdown",
   "metadata": {},
   "source": [
    "Algo que considerar para este apartado, es que cada celda involucrada debe considar el plan establecido para que no varíe. En la (Fig 1), se puede observar que todas las celdas pintadas cumplen con los criterios. Incluso aquellas celdas vácias o \"en blanco\" que están dentro del círculo, ya que con 4 o más vecinos, no permite que ahí se genere una población.\n",
    "\n",
    "<p align=\"center\">\n",
    "  <img width=\"200\" src=\"./assets/plan-expe.png\">\n",
    "  <br/>\n",
    "  <i><span>Fig 1. Distribución de celdas para que no varíen su estado inicial</span></i>\n",
    "</p>\n",
    "\n",
    "En cuanto al modelo para que haya una expanción se conformaría con lo siguiente (Fig 2).\n",
    "\n",
    "<p align=\"center\">\n",
    "  <img width=\"200\" src=\"./assets/plan-expe-2.png\">\n",
    "  <br/>\n",
    "  <i><span>Fig 2. Distribución de celdas para que crezca a partir de un estado inicial</span></i>\n",
    "</p>"
   ]
  },
  {
   "cell_type": "markdown",
   "metadata": {},
   "source": [
    "### 4. Recopilar los resultados de estos planes"
   ]
  },
  {
   "cell_type": "markdown",
   "metadata": {},
   "source": [
    "Al momento de aplicar este plan de simulación, se puede observar que después de 5000 ciclos no ha cambiado desde su forma inicial (Fig. 3). Teniendo éxito en el objetivo del plan establecido.\n",
    "\n",
    "<p align=\"center\">\n",
    "  <img width=\"350\" src=\"./assets/plan-final.png\">\n",
    "  <br/>\n",
    "  <i><span>Fig 3. Resultado las celdas finales para que no cambie su estado</span></i>\n",
    "</p>\n",
    "\n",
    "Por otro lado, los resultados presentes después de varios ciclos de ejecucón para el modelo que pretende que las celdas pintadas crezcan es el siguiente (Fig 4.). Como se puede observar, al llegar a la iteración 5000 se puede ver que las celdas pintadas \"crecieron\" en base a las reglas que se establecieron anteriormente.\n",
    "\n",
    "<p align=\"center\">\n",
    "  <img width=\"350\" src=\"./assets/plan-final-2.png\">\n",
    "  <br/>\n",
    "  <i><span>Fig 4. Resultado de las celdas finales para que para que crezcan de su estado inicial</span></i>\n",
    "</p>"
   ]
  },
  {
   "cell_type": "markdown",
   "metadata": {},
   "source": [
    "## Referencias\n",
    "\n",
    "[1] Juego de la Vida. Obtenido de http://www.bitstorm.org/gameoflife/"
   ]
  }
 ],
 "metadata": {
  "kernelspec": {
   "display_name": "Python 3 (ipykernel)",
   "language": "python",
   "name": "python3"
  },
  "language_info": {
   "codemirror_mode": {
    "name": "ipython",
    "version": 3
   },
   "file_extension": ".py",
   "mimetype": "text/x-python",
   "name": "python",
   "nbconvert_exporter": "python",
   "pygments_lexer": "ipython3",
   "version": "3.10.4"
  }
 },
 "nbformat": 4,
 "nbformat_minor": 2
}
