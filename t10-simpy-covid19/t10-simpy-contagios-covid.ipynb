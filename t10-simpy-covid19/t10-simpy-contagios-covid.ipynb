{
 "cells": [
  {
   "cell_type": "markdown",
   "metadata": {},
   "source": [
    "# Tarea 10 - SimPy: Contagios post COVID-19\n",
    "\n",
    "> Asignatura: Simulación<br/>\n",
    "> Estudiante: Eduardo Zhizhpon"
   ]
  },
  {
   "cell_type": "markdown",
   "metadata": {},
   "source": [
    "Realizar la planificación y modelado de una simulacion basado en eventos discretos para identificar los contagios dentro de un establecimiento de estudiantes post COVID-19 para el reingreso de clases. Los pasos para el regreso progresivo a clases se describe a continuación:\n",
    "\n",
    "- Calcular e Identificar el aforo máximo permitido en la institución educativa.\n",
    "- Identificar el número de estudiantes y el porcentaje de contagio dentro del contexto poblacional el mismo que se aplicara dentro de la simulación por el contagio.\n",
    "- Generar la simulación desde la puerta de ingreso y la salida del plantel por día.\n",
    "- Los estudiantes hacen fila para ingresar al establecimiento y no pueden superar el aforo permitido.\n",
    "- Realizar con un tiempo de un 1 mes.\n",
    "         \n",
    "Generar graficas que indiquen los estudiantes que presentaron complicaciones y el total de estudiantes por establecimiento en cada día o semana.\n",
    "\n",
    "**Nota:** No tomar datos de transporte, numero de aulas, personal docente, etc. Solo se el ingreso, salida y el contagio dentro del establecimiento.\n"
   ]
  },
  {
   "cell_type": "code",
   "execution_count": 91,
   "metadata": {},
   "outputs": [],
   "source": [
    "import random\n",
    "import simpy\n",
    "\n",
    "from scipy import stats\n",
    "\n",
    "class Student():\n",
    "    def __init__(self, env, name, min_study, max_study, capacity):\n",
    "        self.env = env\n",
    "        self.name = name\n",
    "        self.min_study = min_study\n",
    "        self.max_study = max_study\n",
    "        self.capacity = capacity\n",
    "        \n",
    "        self.is_infected = False\n",
    "    \n",
    "    def get_studying_time(self):\n",
    "        # return abs(random.normalvariate(self.max_study, 2))\n",
    "        return random.randint(self.min_study, self.max_study)\n",
    "    \n",
    "    def infect_time(self):\n",
    "        return random.expovariate(INFECT_PROBABILITY)\n",
    "    \n",
    "    def studying(self):\n",
    "        studying_time = self.get_studying_time()\n",
    "        yield self.env.timeout(studying_time)\n",
    "        self.infect_a_student(studying_time)\n",
    "        # print(f'Estudiante [{self.name}] sale de la Universidad', self.env.now)\n",
    "    \n",
    "    def infect_a_student(self, studying_time):\n",
    "        global infected_num\n",
    "        infect = stats.bernoulli.rvs(INFECT_PROBABILITY, size=1)\n",
    "        if infect == 1 and not self.is_infected:\n",
    "            # print(f'Estudiante [{self.name}] INFECTADO')\n",
    "            self.is_infected = True\n",
    "            infected_num += 1\n",
    "    \n",
    "    def enter_university(self):\n",
    "        global studens_inside_num\n",
    "        yield self.env.timeout(random.randint(MIN_WAIT, MAX_WAIT))\n",
    "        with self.capacity.request() as current_capacity:\n",
    "            yield current_capacity\n",
    "            # print(f'Estudiante [{self.name}] entra a la Universidad', self.env.now)\n",
    "            studens_inside_num += 1\n",
    "            yield self.env.process(self.studying())\n",
    "        \n",
    "class Institution():\n",
    "    \n",
    "    def __init__(self, max_students, max_capacity, infection_percentage):\n",
    "        self.max_students = max_students\n",
    "        self.infection_percentage = infection_percentage\n",
    "        self.max_capacity = max_capacity\n",
    "    \n",
    "        self.env = simpy.Environment()\n",
    "        self.capacity = simpy.Resource(self.env, self.max_capacity)\n",
    "        self.students = []\n",
    "        \n",
    "    def run_simulation(self):\n",
    "        global infected_total_num, infected_num, \\\n",
    "            infected_total_by_day, studens_inside_num, \\\n",
    "            studdents_num_by_day\n",
    "        current_time = 0\n",
    "        for i in range(SIM_DAYS):\n",
    "            infected_num = 0\n",
    "            studens_inside_num = 0\n",
    "            \n",
    "            print(f'Comienzo del día {i}')\n",
    "            for student in self.students:\n",
    "                self.env.process(student.enter_university())\n",
    "            current_time += SIM_TIME_EACH_DAY\n",
    "            self.env.run(until = current_time)\n",
    "            print(f'Fin del día {i} con {infected_num} infectados')\n",
    "            \n",
    "            infected_num_by_day[i] = infected_num\n",
    "            infected_total_by_day[i] = len(self.get_infected_students())\n",
    "            students_num_by_day[i] = studens_inside_num\n",
    "            \n",
    "            infected_total_num += infected_num\n",
    "    \n",
    "    def gen_students(self):\n",
    "        self.students = [Student(\n",
    "            self.env, str(i), MIN_STUDYING, MAX_STUDYING, self.capacity) \n",
    "                         for i in range(self.max_students)]\n",
    "        \n",
    "    def get_infected_students(self, filer_by_not_infected=False):\n",
    "        filtered_students = []\n",
    "        if self.students == None:\n",
    "            return filtered_students\n",
    "        \n",
    "        for student in self.students:\n",
    "            if student.is_infected and not filer_by_not_infected:\n",
    "                filtered_students.append(student)\n",
    "            elif filer_by_not_infected and not student.is_infected:\n",
    "                filtered_students.append(student)\n",
    "        return filtered_students\n",
    "            "
   ]
  },
  {
   "cell_type": "code",
   "execution_count": 92,
   "metadata": {
    "scrolled": false
   },
   "outputs": [
    {
     "name": "stdout",
     "output_type": "stream",
     "text": [
      "Comienzo del día 0\n",
      "Fin del día 0 con 174 infectados\n",
      "Comienzo del día 1\n",
      "Fin del día 1 con 271 infectados\n",
      "Comienzo del día 2\n",
      "Fin del día 2 con 244 infectados\n",
      "Comienzo del día 3\n",
      "Fin del día 3 con 192 infectados\n",
      "Comienzo del día 4\n",
      "Fin del día 4 con 225 infectados\n",
      "Comienzo del día 5\n",
      "Fin del día 5 con 227 infectados\n",
      "Comienzo del día 6\n",
      "Fin del día 6 con 185 infectados\n",
      "Comienzo del día 7\n",
      "Fin del día 7 con 177 infectados\n",
      "Comienzo del día 8\n",
      "Fin del día 8 con 183 infectados\n",
      "Comienzo del día 9\n",
      "Fin del día 9 con 141 infectados\n",
      "Comienzo del día 10\n",
      "Fin del día 10 con 164 infectados\n",
      "Comienzo del día 11\n",
      "Fin del día 11 con 151 infectados\n",
      "Comienzo del día 12\n",
      "Fin del día 12 con 123 infectados\n",
      "Comienzo del día 13\n",
      "Fin del día 13 con 109 infectados\n",
      "Comienzo del día 14\n",
      "Fin del día 14 con 123 infectados\n",
      "Comienzo del día 15\n",
      "Fin del día 15 con 111 infectados\n",
      "Comienzo del día 16\n",
      "Fin del día 16 con 118 infectados\n",
      "Comienzo del día 17\n",
      "Fin del día 17 con 114 infectados\n",
      "Comienzo del día 18\n",
      "Fin del día 18 con 116 infectados\n",
      "Comienzo del día 19\n",
      "Fin del día 19 con 103 infectados\n",
      "Comienzo del día 20\n",
      "Fin del día 20 con 92 infectados\n",
      "Comienzo del día 21\n",
      "Fin del día 21 con 86 infectados\n",
      "Comienzo del día 22\n",
      "Fin del día 22 con 82 infectados\n",
      "Comienzo del día 23\n",
      "Fin del día 23 con 81 infectados\n",
      "Comienzo del día 24\n",
      "Fin del día 24 con 74 infectados\n",
      "Comienzo del día 25\n",
      "Fin del día 25 con 79 infectados\n",
      "Comienzo del día 26\n",
      "Fin del día 26 con 54 infectados\n",
      "Comienzo del día 27\n",
      "Fin del día 27 con 52 infectados\n",
      "Comienzo del día 28\n",
      "Fin del día 28 con 54 infectados\n",
      "Comienzo del día 29\n",
      "Fin del día 29 con 64 infectados\n"
     ]
    }
   ],
   "source": [
    "REST_TIME = 14 * 24\n",
    "\n",
    "INFECT_PROBABILITY = 0.067\n",
    "\n",
    "MIN_STUDYING = 2 * 60 * 60\n",
    "MAX_STUDYING = 6 * 60 * 60\n",
    "\n",
    "MIN_WAIT = 2 * 60 * 60\n",
    "MAX_WAIT = 10 * 60 * 60\n",
    "\n",
    "MAX_STUDENTS = 5000\n",
    "\n",
    "MAX_CAPACITY = 1000\n",
    "\n",
    "SIM_DAYS = 30\n",
    "\n",
    "# 60 segundos * 60 minutos * 15 horas \n",
    "# que pasa abierta la universidad\n",
    "SIM_TIME_EACH_DAY = 60 * 60 * 15\n",
    "\n",
    "studens_inside_num = 0\n",
    "infected_num = 0\n",
    "infected_total_num = 0\n",
    "\n",
    "infected_num_by_day = {}\n",
    "infected_total_by_day = {}\n",
    "not_infected_total_by_day = {}\n",
    "students_num_by_day = {}\n",
    "\n",
    "random.seed(77)\n",
    "\n",
    "institution = Institution(MAX_STUDENTS, MAX_CAPACITY, INFECT_PROBABILITY)\n",
    "institution.gen_students()\n",
    "institution.run_simulation()"
   ]
  },
  {
   "cell_type": "code",
   "execution_count": 93,
   "metadata": {},
   "outputs": [
    {
     "data": {
      "image/png": "[encoded data removed]",
      "text/plain": [
       "<Figure size 432x288 with 1 Axes>"
      ]
     },
     "metadata": {
      "needs_background": "light"
     },
     "output_type": "display_data"
    }
   ],
   "source": [
    "import matplotlib.pyplot as plt\n",
    "\n",
    "fig, ax = plt.subplots()\n",
    "ax.scatter(infected_num_by_day.keys(), infected_num_by_day.values())\n",
    "ax.set_xlabel('Día simulado')\n",
    "ax.set_ylabel('Cantidad de infectados')\n",
    "ax.set_title('Cantidad de infectados por Día')\n",
    "plt.show()"
   ]
  },
  {
   "cell_type": "code",
   "execution_count": 94,
   "metadata": {},
   "outputs": [
    {
     "data": {
      "image/png": "[encoded data removed]",
      "text/plain": [
       "<Figure size 432x288 with 1 Axes>"
      ]
     },
     "metadata": {
      "needs_background": "light"
     },
     "output_type": "display_data"
    }
   ],
   "source": [
    "fig, ax = plt.subplots()\n",
    "ax.scatter(infected_total_by_day.keys(), infected_total_by_day.values())\n",
    "ax.set_xlabel('Día simulado')\n",
    "ax.set_ylabel('Cantidad de infectados acumulados')\n",
    "ax.set_title('Cantidad de infectados acumulados por Día')\n",
    "plt.show()"
   ]
  },
  {
   "cell_type": "code",
   "execution_count": 95,
   "metadata": {},
   "outputs": [
    {
     "data": {
      "image/png": "[encoded data removed]",
      "text/plain": [
       "<Figure size 432x288 with 1 Axes>"
      ]
     },
     "metadata": {
      "needs_background": "light"
     },
     "output_type": "display_data"
    }
   ],
   "source": [
    "fig, ax = plt.subplots()\n",
    "ax.scatter(students_num_by_day.keys(), students_num_by_day.values())\n",
    "ax.set_xlabel('Día simulado')\n",
    "ax.set_ylabel('Cantidad de estudiantes que entraron')\n",
    "ax.set_title('Cantidad de estudiantes que entraron a la Institución por Día')\n",
    "plt.show()"
   ]
  },
  {
   "cell_type": "code",
   "execution_count": null,
   "metadata": {},
   "outputs": [],
   "source": []
  }
 ],
 "metadata": {
  "kernelspec": {
   "display_name": "Python 3 (ipykernel)",
   "language": "python",
   "name": "python3"
  },
  "language_info": {
   "codemirror_mode": {
    "name": "ipython",
    "version": 3
   },
   "file_extension": ".py",
   "mimetype": "text/x-python",
   "name": "python",
   "nbconvert_exporter": "python",
   "pygments_lexer": "ipython3",
   "version": "3.10.4"
  }
 },
 "nbformat": 4,
 "nbformat_minor": 4
}
