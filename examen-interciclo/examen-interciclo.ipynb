{
 "cells": [
  {
   "cell_type": "markdown",
   "metadata": {},
   "source": [
    "# Simulación - Examen Interciclo\n",
    "\n",
    "> Estudiante: Cesar Eduardo Zhizhpon Tacuri<br/>\n",
    "> Fecha: 6 de Junio de 2022"
   ]
  },
  {
   "cell_type": "code",
   "execution_count": 43,
   "metadata": {},
   "outputs": [],
   "source": [
    "# Importación de bibliotecas\n",
    "import numpy as np\n",
    "import random\n",
    "import math\n",
    "import matplotlib.pyplot as plt"
   ]
  },
  {
   "cell_type": "code",
   "execution_count": 45,
   "metadata": {},
   "outputs": [],
   "source": [
    "# Definición de funciones\n",
    "\"\"\"\n",
    "    Generador de Cuadrados Medios\n",
    "\"\"\"\n",
    "def mean_squares(xo, digits, iterations):\n",
    "    xn = xo\n",
    "    rn_list = []\n",
    "    for i in range(iterations):\n",
    "        xnn = xn**2\n",
    "        txnn = str(xnn).zfill(8)\n",
    "        tam = len(txnn)\n",
    "        ui = int(txnn[int(tam/2-digits/2):int(tam/2+digits/2)])\n",
    "        rn = ui / (int('9'*digits)+1)\n",
    "        rn_list.append(rn)\n",
    "        xn = ui\n",
    "    return rn_list\n",
    "\n",
    "\"\"\" \n",
    "    Generador de Congruencia Lineal\n",
    "\"\"\"\n",
    "def linear_congruence(xo, a, b, m, iterations):\n",
    "    xn = xo\n",
    "    rn_list = []\n",
    "    for i in range(iterations):\n",
    "        xnn = (a*xn+b) % m\n",
    "        ui = xnn/m\n",
    "        rn_list.append(ui)\n",
    "        xn = xnn\n",
    "    return rn_list\n",
    "\n",
    "\"\"\"\n",
    "    Generador Tausworthe\n",
    "\"\"\"\n",
    "\"\"\" Generador Tausworthe - Obtiene los segmentos de bits \"\"\"\n",
    "def get_bits(b, current_idx, l):\n",
    "    n = len(b)\n",
    "    end_idx = current_idx + l\n",
    "    next_idx = end_idx\n",
    "    remaining = end_idx - n if end_idx > n else None\n",
    "    if remaining:\n",
    "        bits = b[current_idx: n] + b[0:remaining]\n",
    "        next_idx = remaining\n",
    "    else:\n",
    "        bits = b[current_idx: end_idx]\n",
    "    if next_idx >= n:\n",
    "        next_idx = 0\n",
    "    return (bits, next_idx)\n",
    "\n",
    "\"\"\" Generador Tausworthe - Generación del conjunto de bits (b) \"\"\"\n",
    "def generate_bits(q, r, b_seed):\n",
    "    period = 2**q - 1\n",
    "    b = b_seed\n",
    "    for i in range(q, period):\n",
    "        b_n = int(b[i - r]) ^ int(b[i - q])\n",
    "        b += str(b_n)\n",
    "    return b\n",
    "\n",
    "\"\"\" Generador Tausworthe - Generación de números aleatorios \"\"\"\n",
    "def tausworthe(q, r, l, b_seed, iterations):\n",
    "    b = generate_bits(q, r, b_seed)\n",
    "    idx = 0\n",
    "    rn_list = []\n",
    "    for i in range(iterations):\n",
    "        bits, idx = get_bits(b, idx, l)\n",
    "        dec = int(bits, 2)\n",
    "        rn = dec/2**l\n",
    "        rn_list.append(rn)\n",
    "    return rn_list\n",
    "\n",
    "\"\"\"\n",
    "    Generador Random de Python\n",
    "\"\"\"\n",
    "def random_python(seed, iterations):\n",
    "    random.seed(seed)\n",
    "    return [random.random() for _ in range(iterations)]"
   ]
  },
  {
   "cell_type": "code",
   "execution_count": 164,
   "metadata": {},
   "outputs": [],
   "source": [
    "# Definición de funciones Pocker\n",
    "def get_poker_count(rn):\n",
    "    rn_str = str(rn)[2:7]\n",
    "#     if len(rn_str) > 5:\n",
    "#         rn_str = rn_str[:5]\n",
    "#   rn_str = rn_str.ljust(5, '0')\n",
    "#     rn_str = rn_str[:5]\n",
    "    pocker_rule = dict()\n",
    "    for n in rn_str:\n",
    "        pocker_rule[n] = pocker_rule[n] + 1 \\\n",
    "        if n in pocker_rule.keys() else 1\n",
    "    return pocker_rule\n",
    "\n",
    "def get_poker_id(poker_count, rn, count_n):\n",
    "    # TD\n",
    "    if all(val==1 for val in poker_count.values()):\n",
    "        return 'TD'\n",
    "    # QU\n",
    "    if all(val==5 for val in poker_count.values()):\n",
    "        return 'Q'\n",
    "        \n",
    "    \n",
    "    values = list(poker_count.values())\n",
    "    # 2P\n",
    "    indices = list(filter(lambda x: x == 2, values))\n",
    "    if len(indices) == 2:\n",
    "        return '2P'\n",
    "    \n",
    "    # P\n",
    "    indices = list(filter(lambda x: x == 2 or x ==3, values))\n",
    "    if len(indices) == 1:\n",
    "        if indices[0] == 2:\n",
    "            return 'P'\n",
    "    \n",
    "    # TP\n",
    "    indices = list(filter(lambda x: x == 3 or x == 2, values))\n",
    "    if len(indices) == 2:\n",
    "        return 'TP'\n",
    "    \n",
    "    # 3T\n",
    "    indices = list(filter(lambda x: x == 3, values))\n",
    "    if len(indices) == 1:\n",
    "#         print(rn, count_n)\n",
    "        return 'T'\n",
    "    # 4P\n",
    "    indices = list(filter(lambda x: x == 4, values))\n",
    "    if len(indices) == 1:\n",
    "        return 'PQ'\n",
    "\n",
    "def get_poker_rule(rn_list):\n",
    "    labeled = dict()\n",
    "    i = 0\n",
    "    for rn in rn_list:\n",
    "        poker_count = get_poker_count(rn)\n",
    "        poker_id = get_poker_id(poker_count, rn, poker_count)\n",
    "        labeled[i] = poker_id\n",
    "        i += 1\n",
    "    return labeled\n",
    "\n",
    "def count_label(labeled, key):\n",
    "    c = 0\n",
    "    for k in labeled.values():\n",
    "        if k == key:\n",
    "            c += 1\n",
    "    return c\n",
    "\n",
    "prob_table = {\n",
    "    'TD': 0.3024,\n",
    "    'P': 0.5040,\n",
    "    '2P': 0.1080,\n",
    "    'T': 0.0720,\n",
    "    'TP': 0.0090,\n",
    "    'PQ': 0.0045,\n",
    "    'Q': 0.0001\n",
    "}\n",
    "\n",
    "def calc_categories(labeled, iterations):\n",
    "    result = dict()\n",
    "    for prob in prob_table.keys():\n",
    "        count_label_n = count_label(labeled, prob)\n",
    "        print('key=',prob, ', val=', count_label_n)\n",
    "        ei = prob_table[prob] * iterations\n",
    "        val = (((ei - count_label_n)**2) /  ei)\n",
    "        result[prob] = val\n",
    "    return sum(result.values())"
   ]
  },
  {
   "cell_type": "code",
   "execution_count": 165,
   "metadata": {},
   "outputs": [
    {
     "name": "stdout",
     "output_type": "stream",
     "text": [
      "{0: 'TD', 1: 'P', 2: 'T', 3: 'TP', 4: 'PQ', 5: 'P'}\n"
     ]
    }
   ],
   "source": [
    "'''\n",
    "TD = Todos diferentes\n",
    "P = Par\n",
    "2P = 2 Par\n",
    "T = Tercia\n",
    "TP = Tercia y par\n",
    "PQ = Poker\n",
    "Q = Quintilla\n",
    "'''\n",
    "\n",
    "rn_list = [0.32325, 0.55555, 0.53535, 0.12345, 0.22290, 0.11119]\n",
    "rn_list = [0.12345, 0.11098, 0.12101, 0.10101, 0.89888, 0.60600]\n",
    "labeled = get_poker_rule(rn_list)\n",
    "print(labeled)\n",
    "# val = calc_categories(labeled, 6)\n",
    "# # 17286\n",
    "# if (val < 12.59):\n",
    "#     print('Pasa')"
   ]
  },
  {
   "cell_type": "code",
   "execution_count": 166,
   "metadata": {},
   "outputs": [],
   "source": [
    "iterations = 100\n",
    "\n",
    "# Cuadrados medios\n",
    "xo = 74731897457\n",
    "digits = 7\n",
    "mean_squares_rn = mean_squares(xo, digits, iterations)\n",
    "\n",
    "# Congruencia lineal\n",
    "xo = 7\n",
    "a = 74731897457\n",
    "b = 37747318974\n",
    "m = 19\n",
    "linear_congruence_rn = linear_congruence(xo=xo, a=a, b=b, m=m, \n",
    "                                         iterations=iterations)\n",
    "\n",
    "# Random de python\n",
    "seed = 1032022\n",
    "random_python_rn = random_python(seed, iterations)\n",
    "\n",
    "# Tausworthe\n",
    "q = 15\n",
    "r = 7\n",
    "l = 7\n",
    "b_seed = '1'*q\n",
    "tausworthe_rn = tausworthe(q, r, l, b_seed, iterations)"
   ]
  },
  {
   "cell_type": "code",
   "execution_count": 167,
   "metadata": {},
   "outputs": [
    {
     "name": "stdout",
     "output_type": "stream",
     "text": [
      "key= TD , val= 23\n",
      "key= P , val= 57\n",
      "key= 2P , val= 14\n",
      "key= T , val= 3\n",
      "key= TP , val= 1\n",
      "key= PQ , val= 2\n",
      "key= Q , val= 0\n",
      "Pasa la prueba con 11.355820105820106\n"
     ]
    }
   ],
   "source": [
    "# Cuadrados medios\n",
    "labeled = get_poker_rule(mean_squares_rn)\n",
    "val = calc_categories(labeled, iterations)\n",
    "if (val < 12.59):\n",
    "    print('Pasa la prueba con', val)\n",
    "else:\n",
    "    print('No pasa la prueba con', val)"
   ]
  },
  {
   "cell_type": "code",
   "execution_count": 168,
   "metadata": {},
   "outputs": [
    {
     "name": "stdout",
     "output_type": "stream",
     "text": [
      "key= TD , val= 100\n",
      "key= P , val= 0\n",
      "key= 2P , val= 0\n",
      "key= T , val= 0\n",
      "key= TP , val= 0\n",
      "key= PQ , val= 0\n",
      "key= Q , val= 0\n",
      "No pasa la prueba con 230.68783068783063\n"
     ]
    }
   ],
   "source": [
    "# Congruencia lineal\n",
    "labeled = get_poker_rule(linear_congruence_rn)\n",
    "val = calc_categories(labeled, iterations)\n",
    "if (val < 12.59):\n",
    "    print('Pasa la prueba con', val)\n",
    "else:\n",
    "    print('No pasa la prueba con', val)"
   ]
  },
  {
   "cell_type": "code",
   "execution_count": 169,
   "metadata": {},
   "outputs": [
    {
     "name": "stdout",
     "output_type": "stream",
     "text": [
      "key= TD , val= 32\n",
      "key= P , val= 52\n",
      "key= 2P , val= 7\n",
      "key= T , val= 9\n",
      "key= TP , val= 0\n",
      "key= PQ , val= 0\n",
      "key= Q , val= 0\n",
      "Pasa la prueba con 3.3002645502645507\n"
     ]
    }
   ],
   "source": [
    "# Random de Python\n",
    "labeled = get_poker_rule(random_python_rn)\n",
    "val = calc_categories(labeled, iterations)\n",
    "# 17286\n",
    "if (val < 12.59):\n",
    "    print('Pasa la prueba con', val)\n",
    "else:\n",
    "    print('No pasa la prueba con', val)"
   ]
  },
  {
   "cell_type": "code",
   "execution_count": 170,
   "metadata": {},
   "outputs": [
    {
     "name": "stdout",
     "output_type": "stream",
     "text": [
      "key= TD , val= 53\n",
      "key= P , val= 41\n",
      "key= 2P , val= 4\n",
      "key= T , val= 2\n",
      "key= TP , val= 0\n",
      "key= PQ , val= 0\n",
      "key= Q , val= 0\n",
      "No pasa la prueba con 28.28042328042328\n"
     ]
    }
   ],
   "source": [
    "# Tausworthe\n",
    "labeled = get_poker_rule(tausworthe_rn)\n",
    "val = calc_categories(labeled, iterations)\n",
    "# 17286\n",
    "if (val < 12.59):\n",
    "    print('Pasa la prueba con', val)\n",
    "else:\n",
    "    print('No pasa la prueba con', val)"
   ]
  },
  {
   "cell_type": "code",
   "execution_count": 173,
   "metadata": {},
   "outputs": [
    {
     "name": "stdout",
     "output_type": "stream",
     "text": [
      "key= TD , val= 8\n",
      "key= P , val= 12\n",
      "key= 2P , val= 3\n",
      "key= T , val= 4\n",
      "key= TP , val= 3\n",
      "key= PQ , val= 0\n",
      "key= Q , val= 0\n",
      "No pasa la prueba con 30.097001763668434\n"
     ]
    }
   ],
   "source": [
    "rn_list = [0.06141, 0.81792, 0.52953, 0.04127, 0.27813, 0.72484, 0.48999, \n",
    "          0.50502, 0.67347, 0.62182, 0.94107, 0.18590, 0.30444, 0.28103, 0.82578, \n",
    "          0.56766, 0.06060, 0.70688, 0.99367, 0.85923, \n",
    "          0.14411, 0.11223, 0.25357, 0.44598, 0.51483, \n",
    "          0.87648, 0.64794, 0.31555, 0.73997, 0.09099]\n",
    "rn_list = ['0.06141','0.72484','0.81792','0.48999','0.94107','0.18590','0.06060','0.70688','0.52953','0.50502','0.30444','0.04127','0.67347','0.28103','0.99367','0.14411','0.87648','0.64794','0.11223','0.25357','0.44598','0.31555','0.73997','0.27813','0.62182','0.82578','0.56766','0.85923','0.51483','0.09099']\n",
    "labeled = get_poker_rule(rn_list)\n",
    "val = calc_categories(labeled, len(rn_list))\n",
    "# 17286\n",
    "if (val < 12.59):\n",
    "    print('Pasa la prueba con', val)\n",
    "else:\n",
    "    print('No pasa la prueba con', val)"
   ]
  },
  {
   "cell_type": "code",
   "execution_count": null,
   "metadata": {},
   "outputs": [],
   "source": []
  }
 ],
 "metadata": {
  "kernelspec": {
   "display_name": "Python 3 (ipykernel)",
   "language": "python",
   "name": "python3"
  },
  "language_info": {
   "codemirror_mode": {
    "name": "ipython",
    "version": 3
   },
   "file_extension": ".py",
   "mimetype": "text/x-python",
   "name": "python",
   "nbconvert_exporter": "python",
   "pygments_lexer": "ipython3",
   "version": "3.10.4"
  }
 },
 "nbformat": 4,
 "nbformat_minor": 4
}
