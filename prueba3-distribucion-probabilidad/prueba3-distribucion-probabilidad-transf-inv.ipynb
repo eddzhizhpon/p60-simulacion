{
 "cells": [
  {
   "cell_type": "markdown",
   "metadata": {},
   "source": [
    "# Prueba 3 - Distribución de Probabilidades\n",
    "\n",
    "> Estudiante: Eduardo Zhizhpon <br/>\n",
    "> Fecha: 03/07/2022"
   ]
  },
  {
   "cell_type": "markdown",
   "metadata": {},
   "source": [
    "## Enunciado\n",
    "\n",
    "Escoger algún tipo de función de trasformación inversa y ponerlo en práctica utilizando Python.\n",
    "- Problema 1 pts\n",
    "- Simulación 2 pts\n",
    "- Gráficas/Resultados 2 pts\n",
    "\n",
    "Se distribuye las funciones con base en el orden de lista, con 100 números de ejemplos.\n",
    "\n",
    "**Fecha presentación:** 03/07/22 23:55\n",
    "\n",
    "Para ello, usar el orden de las siguientes fórmulas y relacionarlas al orden de la lista del curso.\n",
    "\n",
    "<img src=\"./formulas.png\" alt=\"Fórmulas para la Distribución\">"
   ]
  },
  {
   "cell_type": "markdown",
   "metadata": {},
   "source": [
    "> **Fórmula asignada:** #2 - Cauchy"
   ]
  },
  {
   "cell_type": "code",
   "execution_count": 18,
   "metadata": {},
   "outputs": [],
   "source": [
    "import random\n",
    "import math\n",
    "import numpy as np\n",
    "import matplotlib.pyplot as plt\n",
    "\n",
    "class Cauchy:\n",
    "    \n",
    "    n_round = 3\n",
    "    \n",
    "    def __init__(self):\n",
    "        pass\n",
    "        \n",
    "    def __get_random(self):\n",
    "        return random.random()\n",
    "    \n",
    "    def __density(self, x):\n",
    "        return 1 / (math.pi * (1 + x**2))\n",
    "    \n",
    "    def __f(self, x):\n",
    "        return ( (1 / 2) + ( math.atan(x) / math.pi) )\n",
    "    \n",
    "    def __f_inv(self):\n",
    "        u = self.__get_random()\n",
    "        x = math.tan( math.pi * ( u - ( 1 / 2)) )\n",
    "        return x, u\n",
    "    \n",
    "    def pdf(self, x):\n",
    "        \"\"\"Probability Density Function\"\"\"\n",
    "        n = len(x)\n",
    "        x_result = np.arange(n, dtype=float)\n",
    "        for i in range(n):\n",
    "            x_result[i] = self.__density(x[i])\n",
    "        return x_result\n",
    "    \n",
    "    def cdf(self, x):\n",
    "        \"\"\"Cumulative Distribution Function\"\"\"\n",
    "        n = len(x)\n",
    "        x_result = np.arange(n, dtype=float)\n",
    "        for i in range(n):\n",
    "            x_result[i] = self.__f(x[i])\n",
    "        return x_result\n",
    "    \n",
    "    def rvs(self, samples=100, seed=None, r_print=False):\n",
    "        \"\"\"Random Variates by Size\"\"\"\n",
    "        random.seed(seed)\n",
    "        x_result = np.arange(samples, dtype=float)\n",
    "        for i in range(samples):\n",
    "            xi, ri = self.__f_inv()\n",
    "            x_result[i] = xi\n",
    "            if r_print:\n",
    "                print(i+1, '\\t' + str(round(ri, self.n_round)), \n",
    "                  '\\t' + str(round(xi, self.n_round)))\n",
    "        return x_result\n",
    "\n",
    "cauchy = Cauchy()"
   ]
  },
  {
   "cell_type": "markdown",
   "metadata": {},
   "source": [
    "## A. Problema\n",
    "\n",
    "La distribución de cauchy pertenece a la familia de distribuciones de probabilidad continuas. Esta distribución se usa comúnmente en el campo de la Física por sus parámetros de ubicación y escala. Además, no tiene media, varianza o momentos superiores definidos.\n",
    "\n",
    "**Planteamiento del problema**\n",
    "\n",
    "Las distribuciones de Cauchy pueden usarse para modelar VaR (valor en riesgo). El VaR permite determinar la pérdida máxima que puede tener una inversión dentro de un horizonte temporal, dado un nivel de confianza (1- $\\alpha$), normalmente 95% o 99%. A continuación, se realizará una simulación del VaR durante 100 meses."
   ]
  },
  {
   "cell_type": "markdown",
   "metadata": {},
   "source": [
    "## B. Simulación"
   ]
  },
  {
   "cell_type": "code",
   "execution_count": 52,
   "metadata": {},
   "outputs": [
    {
     "name": "stdout",
     "output_type": "stream",
     "text": [
      "Mes \t ri \t VaR\n",
      "1 \t0.181 \t-1.562\n",
      "2 \t0.661 \t0.556\n",
      "3 \t0.335 \t-0.572\n",
      "4 \t0.198 \t-1.395\n",
      "5 \t0.49 \t-0.033\n",
      "6 \t0.494 \t-0.019\n",
      "7 \t0.48 \t-0.064\n",
      "8 \t0.458 \t-0.132\n",
      "9 \t0.265 \t-0.913\n",
      "10 \t0.254 \t-0.976\n",
      "11 \t0.692 \t0.688\n",
      "12 \t0.324 \t-0.615\n",
      "13 \t0.675 \t0.612\n",
      "14 \t0.787 \t1.266\n",
      "15 \t0.866 \t2.232\n",
      "16 \t0.944 \t5.628\n",
      "17 \t0.235 \t-1.102\n",
      "18 \t0.237 \t-1.082\n",
      "19 \t0.735 \t0.909\n",
      "20 \t0.576 \t0.242\n",
      "21 \t0.202 \t-1.36\n",
      "22 \t0.678 \t0.624\n",
      "23 \t0.873 \t2.377\n",
      "24 \t0.836 \t1.763\n",
      "25 \t0.216 \t-1.239\n",
      "26 \t0.299 \t-0.732\n",
      "27 \t0.007 \t-47.766\n",
      "28 \t0.976 \t13.063\n",
      "29 \t0.22 \t-1.205\n",
      "30 \t0.727 \t0.866\n",
      "31 \t0.538 \t0.12\n",
      "32 \t0.593 \t0.302\n",
      "33 \t0.527 \t0.084\n",
      "34 \t0.826 \t1.638\n",
      "35 \t0.6 \t0.325\n",
      "36 \t0.303 \t-0.711\n",
      "37 \t0.115 \t-2.651\n",
      "38 \t0.477 \t-0.071\n",
      "39 \t0.923 \t4.05\n",
      "40 \t0.145 \t-2.038\n",
      "41 \t0.684 \t0.652\n",
      "42 \t0.631 \t0.437\n",
      "43 \t0.16 \t-1.815\n",
      "44 \t0.207 \t-1.316\n",
      "45 \t0.686 \t0.662\n",
      "46 \t0.437 \t-0.201\n",
      "47 \t0.407 \t-0.301\n",
      "48 \t0.48 \t-0.062\n",
      "49 \t0.101 \t-3.038\n",
      "50 \t0.705 \t0.749\n",
      "51 \t0.588 \t0.285\n",
      "52 \t0.534 \t0.108\n",
      "53 \t0.34 \t-0.551\n",
      "54 \t0.812 \t1.487\n",
      "55 \t0.824 \t1.62\n",
      "56 \t0.545 \t0.142\n",
      "57 \t0.089 \t-3.496\n",
      "58 \t0.148 \t-1.995\n",
      "59 \t0.152 \t-1.93\n",
      "60 \t0.079 \t-3.954\n",
      "61 \t0.648 \t0.503\n",
      "62 \t0.543 \t0.137\n",
      "63 \t0.204 \t-1.342\n",
      "64 \t0.91 \t3.456\n",
      "65 \t0.63 \t0.432\n",
      "66 \t0.792 \t1.307\n",
      "67 \t0.818 \t1.555\n",
      "68 \t0.682 \t0.641\n",
      "69 \t0.527 \t0.084\n",
      "70 \t0.985 \t20.835\n",
      "71 \t0.133 \t-2.254\n",
      "72 \t0.689 \t0.676\n",
      "73 \t0.884 \t2.627\n",
      "74 \t0.478 \t-0.068\n",
      "75 \t0.817 \t1.545\n",
      "76 \t0.181 \t-1.561\n",
      "77 \t0.416 \t-0.269\n",
      "78 \t0.271 \t-0.877\n",
      "79 \t0.397 \t-0.336\n",
      "80 \t0.702 \t0.736\n",
      "81 \t0.144 \t-2.065\n",
      "82 \t0.338 \t-0.556\n",
      "83 \t0.846 \t1.904\n",
      "84 \t0.301 \t-0.72\n",
      "85 \t0.126 \t-2.392\n",
      "86 \t0.994 \t56.422\n",
      "87 \t0.541 \t0.13\n",
      "88 \t0.018 \t-17.541\n",
      "89 \t0.571 \t0.228\n",
      "90 \t0.146 \t-2.025\n",
      "91 \t0.163 \t-1.782\n",
      "92 \t0.739 \t0.932\n",
      "93 \t0.652 \t0.518\n",
      "94 \t0.426 \t-0.235\n",
      "95 \t0.514 \t0.045\n",
      "96 \t0.559 \t0.186\n",
      "97 \t0.459 \t-0.13\n",
      "98 \t0.101 \t-3.038\n",
      "99 \t0.769 \t1.125\n",
      "100 \t0.77 \t1.137\n"
     ]
    }
   ],
   "source": [
    "sample = 100\n",
    "print('Mes', '\\t ri', '\\t VaR')\n",
    "cauchy_values = cauchy.rvs(samples=sample, seed=18, r_print=True)"
   ]
  },
  {
   "cell_type": "markdown",
   "metadata": {},
   "source": [
    "## C. Gráficas y Resultados"
   ]
  },
  {
   "cell_type": "markdown",
   "metadata": {},
   "source": [
    "**Gráfica de Función de densidad**"
   ]
  },
  {
   "cell_type": "code",
   "execution_count": 55,
   "metadata": {},
   "outputs": [
    {
     "data": {
      "image/png": "[encoded data removed]",
      "text/plain": [
       "<Figure size 432x288 with 1 Axes>"
      ]
     },
     "metadata": {
      "needs_background": "light"
     },
     "output_type": "display_data"
    }
   ],
   "source": [
    "x = np.linspace(-10, 10, samples)\n",
    "cauchy_values_pdf = cauchy.pdf(x)\n",
    "plt.plot(x, cauchy_values_pdf)\n",
    "plt.title('Distribución Cauchy - Función de Densidad')\n",
    "plt.ylabel('Probabilidad')\n",
    "plt.xlabel('Valores')\n",
    "plt.show()"
   ]
  },
  {
   "cell_type": "markdown",
   "metadata": {},
   "source": [
    "**Gráfica de Función de probabilidad acumulada**"
   ]
  },
  {
   "cell_type": "code",
   "execution_count": 54,
   "metadata": {},
   "outputs": [
    {
     "data": {
      "image/png": "[encoded data removed]",
      "text/plain": [
       "<Figure size 432x288 with 1 Axes>"
      ]
     },
     "metadata": {
      "needs_background": "light"
     },
     "output_type": "display_data"
    }
   ],
   "source": [
    "x = np.linspace(-10, 10, samples)\n",
    "cauchy_values_cdf = cauchy.cdf(x)\n",
    "plt.plot(x, cauchy_values_cdf)\n",
    "plt.title('Distribución Cauchy - Función de Probabilidad Acumulada')\n",
    "plt.ylabel('Probabilidad')\n",
    "plt.xlabel('Valores')\n",
    "plt.show()"
   ]
  },
  {
   "cell_type": "markdown",
   "metadata": {},
   "source": [
    "**Histograma**"
   ]
  },
  {
   "cell_type": "code",
   "execution_count": 53,
   "metadata": {},
   "outputs": [
    {
     "data": {
      "image/png": "[encoded data removed]",
      "text/plain": [
       "<Figure size 432x288 with 1 Axes>"
      ]
     },
     "metadata": {
      "needs_background": "light"
     },
     "output_type": "display_data"
    }
   ],
   "source": [
    "plt.hist(cauchy_values, 50)\n",
    "plt.title('Distribución Cauchy - Histograma')\n",
    "plt.ylabel('Frequencia')\n",
    "plt.xlabel('Valores')\n",
    "plt.show()"
   ]
  },
  {
   "cell_type": "markdown",
   "metadata": {},
   "source": [
    "**Referencias**\n",
    "\n",
    "Servizo Galeo de Saúde, Repositorio (2014). Distribuciones de Probabilidad. Sergas ES. https://www.sergas.es/Saude-publica/Documents/1927/4-Ayuda%20Distribuciones%20de%20probabilidad.pdf\n",
    "\n",
    "Stevens, R. (2021, October 5). Valor en riesgo (VAR): cálculo y ejemplos. Rankia. https://www.rankia.co/blog/analisis-colcap/3606512-valor-riesgo-var-calculo-ejemplos"
   ]
  },
  {
   "cell_type": "code",
   "execution_count": null,
   "metadata": {},
   "outputs": [],
   "source": []
  }
 ],
 "metadata": {
  "kernelspec": {
   "display_name": "Python 3 (ipykernel)",
   "language": "python",
   "name": "python3"
  },
  "language_info": {
   "codemirror_mode": {
    "name": "ipython",
    "version": 3
   },
   "file_extension": ".py",
   "mimetype": "text/x-python",
   "name": "python",
   "nbconvert_exporter": "python",
   "pygments_lexer": "ipython3",
   "version": "3.10.4"
  }
 },
 "nbformat": 4,
 "nbformat_minor": 4
}
