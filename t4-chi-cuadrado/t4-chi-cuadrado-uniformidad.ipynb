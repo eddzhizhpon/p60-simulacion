{
 "cells": [
  {
   "cell_type": "markdown",
   "metadata": {},
   "source": [
    "# Tarea 2 - Chi Cuadrado\n",
    "## Verificación de números pseudoaleatorios\n",
    "\n",
    "> Asignatura: Simulación<br/>\n",
    "> Estudiante: Eduardo Zhizhpon"
   ]
  },
  {
   "cell_type": "code",
   "execution_count": 84,
   "metadata": {},
   "outputs": [
    {
     "name": "stdout",
     "output_type": "stream",
     "text": [
      "matplotlib==3.5.1\r\n",
      "numpy==1.21.2\r\n"
     ]
    }
   ],
   "source": [
    "# Instalación de librerías\n",
    "!pip install numpy==1.21.2 > /dev/null\n",
    "!pip install matplotlib==3.5.1 > /dev/null\n",
    "\n",
    "# Verificación de intalación y versiones\n",
    "!pip list --format=freeze | grep 'numpy\\|matplotlib'"
   ]
  },
  {
   "cell_type": "code",
   "execution_count": 1,
   "metadata": {},
   "outputs": [],
   "source": [
    "# Importación de librerías\n",
    "import random\n",
    "import numpy as np\n",
    "import matplotlib.pyplot as plt"
   ]
  },
  {
   "cell_type": "markdown",
   "metadata": {},
   "source": [
    "## Definición de Funciones"
   ]
  },
  {
   "cell_type": "markdown",
   "metadata": {},
   "source": [
    "### Definición de funciones generadoras de números pseudoaleatorios"
   ]
  },
  {
   "cell_type": "code",
   "execution_count": 2,
   "metadata": {},
   "outputs": [],
   "source": [
    "\"\"\"\n",
    "    Generador de Cuadrados Medios\n",
    "\"\"\"\n",
    "def mean_squares(xo, digits, iterations):\n",
    "    xn = xo\n",
    "    rn_list = []\n",
    "    for i in range(iterations):\n",
    "        xnn = xn**2\n",
    "        txnn = str(xnn).zfill(8)\n",
    "        tam = len(txnn)\n",
    "        ui = int(txnn[int(tam/2-digits/2):int(tam/2+digits/2)])\n",
    "        rn = ui / (int('9'*digits)+1)\n",
    "        rn_list.append(rn)\n",
    "        xn = ui\n",
    "    return rn_list\n",
    "\n",
    "\"\"\" \n",
    "    Generador de Congruencia Lineal\n",
    "\"\"\"\n",
    "def linear_congruence(xo, a, b, m, iterations):\n",
    "    xn = xo\n",
    "    rn_list = []\n",
    "    for i in range(iterations):\n",
    "        xnn = (a*xn+b) % m\n",
    "        ui = xnn/m\n",
    "        rn_list.append(ui)\n",
    "        xn = xnn\n",
    "    return rn_list\n",
    "\n",
    "\"\"\"\n",
    "    Generador Tausworthe\n",
    "\"\"\"\n",
    "\"\"\" Generador Tausworthe - Obtiene los segmentos de bits \"\"\"\n",
    "def get_bits(b, current_idx, l):\n",
    "    n = len(b)\n",
    "    end_idx = current_idx + l\n",
    "    remaining = None\n",
    "    if current_idx >= n:\n",
    "        current_idx = 0\n",
    "    if end_idx > n:\n",
    "        remaining = end_idx - n\n",
    "    if remaining:\n",
    "        bits = b[current_idx: n] + b[0:remaining]\n",
    "        current_idx = remaining\n",
    "    else:\n",
    "        bits = b[current_idx: end_idx]\n",
    "    return (bits, current_idx)\n",
    "\n",
    "\"\"\" Generador Tausworthe - Generación del conjunto de bits (b) \"\"\"\n",
    "def generate_bits(q, r, b_seed):\n",
    "    period = 2**q - 1\n",
    "    b = b_seed\n",
    "    for i in range(q, period):\n",
    "        b_n = int(b[i - r]) ^ int(b[i - q])\n",
    "        b += str(b_n)\n",
    "    return b\n",
    "\n",
    "\"\"\" Generador Tausworthe - Generación de números aleatorios \"\"\"\n",
    "def tausworthe(q, r, l, b_seed, iterations):\n",
    "    b = generate_bits(q, r, b_seed)\n",
    "    idx = 0\n",
    "    rn_list = []\n",
    "    for i in range(iterations):\n",
    "        bits, idx = get_bits(b, idx, l)\n",
    "        idx += l\n",
    "        dec = int(bits, 2)\n",
    "        rn = dec/2**l\n",
    "        rn_list.append(rn)\n",
    "    return rn_list\n",
    "\n",
    "\"\"\"\n",
    "    Generador Random de Python\n",
    "\"\"\"\n",
    "def random_python(seed, iterations):\n",
    "    random.seed(seed)\n",
    "    return [random.random() for i in range(iterations)]"
   ]
  },
  {
   "cell_type": "markdown",
   "metadata": {},
   "source": [
    "### Definición de la función para calcular Chi Cuadrado"
   ]
  },
  {
   "cell_type": "code",
   "execution_count": 3,
   "metadata": {},
   "outputs": [],
   "source": [
    "\"\"\" Función para realizar el conteo de los números que están en cada\n",
    "intervalo \"\"\"\n",
    "def chi_squared(numbers):\n",
    "    tables = {}\n",
    "    for i in np.arange(0.1, 1.1, 0.1):\n",
    "        for j in numbers:\n",
    "            if j > i-0.1 and j <= i:\n",
    "                tables[round(i-0.1, 1)] = tables[round(i - 0.1, 1)] + 1 \\\n",
    "                    if round(i - 0.1, 1) in tables else 1\n",
    "    return tables\n",
    "\"\"\" Función para aplicar la fórmula y obtener la desviación estándar\n",
    "de los intervalos \"\"\"\n",
    "def chi_sum(tables, E):\n",
    "    return sum([(value - E)**2/E for value in tables.values()])"
   ]
  },
  {
   "cell_type": "markdown",
   "metadata": {},
   "source": [
    "### Definición de la función para graficar Chi Cuadrado de los generadores de números pseudoaleatorios"
   ]
  },
  {
   "cell_type": "code",
   "execution_count": 4,
   "metadata": {},
   "outputs": [],
   "source": [
    "def chi_plot(tables, title):\n",
    "    fig = plt.figure(figsize=(6,6))\n",
    "    axes = fig.add_subplot(1, 1, 1)\n",
    "    axes.bar(range(len(tables)), list(tables.values()), \n",
    "             tick_label=list(tables.keys()), \n",
    "             edgecolor='black')\n",
    "    axes.set_title(title)\n",
    "    axes.set_xlabel('Cantidad de valoes')\n",
    "    axes.set_ylabel('Intervalos')\n",
    "\n",
    "    # Establece los valores a cada barra\n",
    "    for bars in axes.containers:\n",
    "        axes.bar_label(bars)\n",
    "\n",
    "    fig.tight_layout()\n",
    "    plt.show()"
   ]
  },
  {
   "cell_type": "markdown",
   "metadata": {},
   "source": [
    "## Generación de números pseudoaleatorios"
   ]
  },
  {
   "cell_type": "code",
   "execution_count": 5,
   "metadata": {},
   "outputs": [],
   "source": [
    "# Cantidad de iteraciones\n",
    "iterations = 100"
   ]
  },
  {
   "cell_type": "code",
   "execution_count": 6,
   "metadata": {},
   "outputs": [],
   "source": [
    "# Cuadrados Medios\n",
    "xo = 74731897457\n",
    "digits = 7\n",
    "mean_squares_rn = mean_squares(xo, digits, iterations)"
   ]
  },
  {
   "cell_type": "code",
   "execution_count": 7,
   "metadata": {},
   "outputs": [],
   "source": [
    "# Congruencia Lineal\n",
    "xo = 7\n",
    "a = 74731897457\n",
    "b = 37747318974\n",
    "m = 19\n",
    "linear_congruence_rn = linear_congruence(xo, a, b, m, iterations)"
   ]
  },
  {
   "cell_type": "code",
   "execution_count": 8,
   "metadata": {},
   "outputs": [],
   "source": [
    "# Tausworthe\n",
    "q = 7\n",
    "r = 3\n",
    "l = 5\n",
    "tausworthe_rn = tausworthe(q, r, l,'1'*q, iterations)"
   ]
  },
  {
   "cell_type": "code",
   "execution_count": 9,
   "metadata": {},
   "outputs": [],
   "source": [
    "# Random de Python\n",
    "seed = 11052022\n",
    "random_python_rn = random_python(seed, iterations)"
   ]
  },
  {
   "cell_type": "markdown",
   "metadata": {},
   "source": [
    "## Resultados y gráficas Chi Cuadrado de los generadores"
   ]
  },
  {
   "cell_type": "code",
   "execution_count": 10,
   "metadata": {},
   "outputs": [],
   "source": [
    "# Definición de E\n",
    "E = 10"
   ]
  },
  {
   "cell_type": "markdown",
   "metadata": {},
   "source": [
    "### Cuadrados Medios"
   ]
  },
  {
   "cell_type": "code",
   "execution_count": 11,
   "metadata": {},
   "outputs": [
    {
     "data": {
      "image/png": "[encoded data removed]",
      "text/plain": [
       "<Figure size 432x432 with 1 Axes>"
      ]
     },
     "metadata": {
      "needs_background": "light"
     },
     "output_type": "display_data"
    },
    {
     "name": "stdout",
     "output_type": "stream",
     "text": [
      "Valor de Chi Cuadrado = 9.200000000000001\n"
     ]
    }
   ],
   "source": [
    "tables = chi_squared(mean_squares_rn)\n",
    "chi_value = chi_sum(tables, E)\n",
    "chi_plot(tables, 'Chi Cuadrado - Cuadrados Medios')\n",
    "print(f'Valor de Chi Cuadrado = {chi_value}')"
   ]
  },
  {
   "cell_type": "markdown",
   "metadata": {},
   "source": [
    "### Congruencia Lineal"
   ]
  },
  {
   "cell_type": "code",
   "execution_count": 12,
   "metadata": {},
   "outputs": [
    {
     "data": {
      "image/png": "[encoded data removed]",
      "text/plain": [
       "<Figure size 432x432 with 1 Axes>"
      ]
     },
     "metadata": {
      "needs_background": "light"
     },
     "output_type": "display_data"
    },
    {
     "name": "stdout",
     "output_type": "stream",
     "text": [
      "Valor de Chi Cuadrado = 31.7\n"
     ]
    }
   ],
   "source": [
    "tables = chi_squared(linear_congruence_rn)\n",
    "chi_value = chi_sum(tables, E)\n",
    "chi_plot(tables, 'Chi Cuadrado - Congruencia Lineal')\n",
    "print(f'Valor de Chi Cuadrado = {chi_value}')"
   ]
  },
  {
   "cell_type": "markdown",
   "metadata": {},
   "source": [
    "### Tausworthe"
   ]
  },
  {
   "cell_type": "code",
   "execution_count": 16,
   "metadata": {},
   "outputs": [
    {
     "data": {
      "image/png": "[encoded data removed]",
      "text/plain": [
       "<Figure size 432x432 with 1 Axes>"
      ]
     },
     "metadata": {
      "needs_background": "light"
     },
     "output_type": "display_data"
    },
    {
     "name": "stdout",
     "output_type": "stream",
     "text": [
      "Valor de Chi Cuadrado = 4.1\n"
     ]
    }
   ],
   "source": [
    "tables = chi_squared(tausworthe_rn)\n",
    "chi_value = chi_sum(tables, E)\n",
    "chi_plot(tables, 'Chi Cuadrado - Tausworthe')\n",
    "print(f'Valor de Chi Cuadrado = {chi_value}')"
   ]
  },
  {
   "cell_type": "markdown",
   "metadata": {},
   "source": [
    "### Random de Python"
   ]
  },
  {
   "cell_type": "code",
   "execution_count": 15,
   "metadata": {},
   "outputs": [
    {
     "data": {
      "image/png": "[encoded data removed]",
      "text/plain": [
       "<Figure size 432x432 with 1 Axes>"
      ]
     },
     "metadata": {
      "needs_background": "light"
     },
     "output_type": "display_data"
    },
    {
     "name": "stdout",
     "output_type": "stream",
     "text": [
      "Valor de Chi Cuadrado = 17.8\n"
     ]
    }
   ],
   "source": [
    "tables = chi_squared(random_python_rn)\n",
    "chi_value = chi_sum(tables, E)\n",
    "chi_plot(tables, 'Chi Cuadrado - Random de Python')\n",
    "print(f'Valor de Chi Cuadrado = {chi_value}')"
   ]
  }
 ],
 "metadata": {
  "kernelspec": {
   "display_name": "Python 3 (ipykernel)",
   "language": "python",
   "name": "python3"
  },
  "language_info": {
   "codemirror_mode": {
    "name": "ipython",
    "version": 3
   },
   "file_extension": ".py",
   "mimetype": "text/x-python",
   "name": "python",
   "nbconvert_exporter": "python",
   "pygments_lexer": "ipython3",
   "version": "3.10.4"
  }
 },
 "nbformat": 4,
 "nbformat_minor": 4
}
