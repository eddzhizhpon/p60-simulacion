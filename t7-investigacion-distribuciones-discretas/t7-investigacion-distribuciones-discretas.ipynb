{
 "cells": [
  {
   "cell_type": "code",
   "execution_count": 2,
   "metadata": {},
   "outputs": [],
   "source": [
    "# Importación de bibliotecas\n",
    "import matplotlib.pyplot as plt\n",
    "import numpy as np \n",
    "from scipy import stats \n",
    "import seaborn as sns"
   ]
  },
  {
   "cell_type": "markdown",
   "metadata": {},
   "source": [
    "# Tarea 7 - Distribuciones de Probabilidad Discretas\n",
    "\n",
    "> Asignatura: Simulación<br/>\n",
    "> Estudiante: Eduardo Zhizhpon"
   ]
  },
  {
   "cell_type": "markdown",
   "metadata": {},
   "source": [
    "## A. Introducción\n",
    "\n",
    "Las distribuciones discretas de probabilidades son muy útiles cuando se emplean la representación de modelos estocásticos para procesos que requieran conteo. Esto puede realizarse para muestras finitas, donde la ocurrencia está dada por el azar.\n",
    "\n",
    "A continuación, se realizará una descripción de técnicas para generar valores de variables aleatorias a partir de distribuciones discretas: hipergeométrica, uniforme y binomial negativa. Finalmente, se darán a conocer las funciones en Python necesarias para la generación de valores aleatorios y ejemplo orientado a la realidad."
   ]
  },
  {
   "cell_type": "markdown",
   "metadata": {},
   "source": [
    "## B. Descripción"
   ]
  },
  {
   "cell_type": "markdown",
   "metadata": {},
   "source": [
    "### 1. Hipergeométrica"
   ]
  },
  {
   "cell_type": "markdown",
   "metadata": {},
   "source": [
    "Se define como: dada una población finita de tamaño N, donde hay dos tipos de objetos denominados como éxitos y fracasos. La distribución hipergeométrica es utilizada para casos donde se extraigan muestras o se realicen experiencias repetidas sin devolución del elemento extraído. Por lo tanto, es útil para el cálculo de probabilidades de juegos de azar y en el estudio de muestras pequeñas.\n",
    "\n",
    "Consideraciones a tener en cuenta dentro de la distribución hipergeométrica:\n",
    "\n",
    "- El proceso consta de *n* pruebas, separadas o separables de entre un conjunto de *N* pruebas posibles.\n",
    "- Cada una de las pruebas puede dar únicamente dos resultados mutuamente excluyentes.\n",
    "- El número de individuos que presentan la característica A (éxito) es *M*.\n",
    "- Limitantes de los valores:\n",
    "    - *r* : $max(0, n - N + M)$ y $min(n, M)$ inclusivo\n",
    "    - *n* : $1 \\leq n \\leq N$\n",
    "    - *N* : $N \\geq 1$\n",
    "    - *M* : $M \\geq 1$\n",
    "- En la primera prueba las probabilidades son: $P(A) = p$ y $P(A) = q$; con $p + q = 1$.\n",
    "\n",
    "Para ello, se define la variable aleatoria $r = \\text{\"n° de éxitos obtenidos\"}$. Siendo la función de probabilidad:\n",
    "$$p(r;n,N,M)=\\frac{ \\left(\\begin{array}{c} M \\\\ r \\end{array}\\right) . \\left(\\begin{array}{c} N-M \\\\ n-r \\end{array}\\right) }{ \\left(\\begin{array}{c} N \\\\ n \\end{array}\\right) }\n",
    "$$\n",
    "\n",
    "Donde:\n",
    "\n",
    "> $M$ = cantidad de éxitos posibles en la población <br/>\n",
    "$N$ = tamaño de población <br/>\n",
    "$n$ = tamaño de la muestra <br/>\n",
    "$r$ = valor que toma la variable aleatoria"
   ]
  },
  {
   "cell_type": "markdown",
   "metadata": {},
   "source": [
    "### 2. Uniforme"
   ]
  },
  {
   "cell_type": "markdown",
   "metadata": {},
   "source": [
    "La distribución uniforme para valores discretos se encarga de asignar valores a una variable con la misma probabilidad de ocurrencia. Es decir, esta distribución asigna la misma probabilidad a todos los valores entre el límite inferior y superior.\n",
    "\n",
    "Por lo tanto, la función para el comportamiento de una variable aleatoria discreta con distribución uniforme será:\n",
    "\n",
    "$$\n",
    "p(x;k) = \\left\\{\n",
    "\t\\begin{array}{ll}\n",
    "            0  & \\mbox{si } x \\neq x_{i} & i = 1, 2, ..., k\\\\\n",
    "            \\frac{1}{k} & \\mbox{si } x = x_{i} & i = 1, 2, ..., k\n",
    "\t\\end{array}\n",
    "\\right.\n",
    "$$\n"
   ]
  },
  {
   "cell_type": "markdown",
   "metadata": {},
   "source": [
    "### 3. Binomial Negativa"
   ]
  },
  {
   "cell_type": "markdown",
   "metadata": {},
   "source": [
    "Se considera como una distribución que se extiende la distribución geométrica. Básicamente, se utiliza en procesos que se requieran N casos favorables (primer éxito). Es decir, modela el número de ensayos necesarios para que se produzcan un número específico de eventos.\n",
    "\n",
    "**Condiciones:**\n",
    "\n",
    "- Cada secuencia es independiente de otras.\n",
    "- En cada intento solamente son posibles dos resultados (éxito o fracaso)\n",
    "- La probabilidad de éxito es constante en cada secuencia\n",
    "- Los intentos continúan hasta que se consigan r éxitos\n",
    "\n",
    "\n",
    "Por lo tanto, la función para el comportamiento de una variable aleatoria discreta con distribución binomial negativa será:\n",
    "\n",
    "$$\n",
    "f(x)=\\left(\\begin{array}{c} x - 1 \\\\ r - 1 \\end{array}\\right) p^{r} (1 - p)^{x-r}\n",
    "$$\n",
    "\n",
    "Donde: \n",
    "\n",
    "> $x$ = número de ensayos hasta obtener el r-ésimo éxito} <br/>\n",
    "$p$ = la probabilidad de pasar el control de calidad} <br/>\n",
    "$r$ = la cantidad de éxitos"
   ]
  },
  {
   "cell_type": "markdown",
   "metadata": {},
   "source": [
    "## C. Ejemplo del uso"
   ]
  },
  {
   "cell_type": "markdown",
   "metadata": {},
   "source": [
    "### 1. Hipergeométrica"
   ]
  },
  {
   "cell_type": "markdown",
   "metadata": {},
   "source": [
    "La distribución hipergeométrica se lo puede realizar en Python de la siguiente manera:"
   ]
  },
  {
   "cell_type": "code",
   "execution_count": 8,
   "metadata": {},
   "outputs": [
    {
     "data": {
      "image/png": "[encoded data removed]",
      "text/plain": [
       "<Figure size 432x288 with 1 Axes>"
      ]
     },
     "metadata": {
      "needs_background": "light"
     },
     "output_type": "display_data"
    }
   ],
   "source": [
    "# Graficando Hipergeométrica\n",
    "M, n, N = 30, 10, 12 # parametros de forma \n",
    "hipergeometrica = stats.hypergeom(M, n, N) # Distribución\n",
    "x = np.arange(0, n+1)\n",
    "fmp = hipergeometrica.pmf(x) # Función de Masa de Probabilidad\n",
    "plt.plot(x, fmp, '--')\n",
    "plt.vlines(x, 0, fmp, colors='b', lw=5, alpha=0.5)\n",
    "plt.title('Distribución Hipergeométrica')\n",
    "plt.ylabel('Probabilidad')\n",
    "plt.xlabel('Valores')\n",
    "plt.show()"
   ]
  },
  {
   "cell_type": "markdown",
   "metadata": {},
   "source": [
    "Histograma:"
   ]
  },
  {
   "cell_type": "code",
   "execution_count": 7,
   "metadata": {},
   "outputs": [
    {
     "data": {
      "image/png": "[encoded data removed]",
      "text/plain": [
       "<Figure size 432x288 with 1 Axes>"
      ]
     },
     "metadata": {
      "needs_background": "light"
     },
     "output_type": "display_data"
    }
   ],
   "source": [
    "# histograma\n",
    "aleatorios = hipergeometrica.rvs(1000)  # genera aleatorios\n",
    "cuenta, cajas, ignorar = plt.hist(aleatorios, 20)\n",
    "plt.ylabel('Frequencia')\n",
    "plt.xlabel('Valores')\n",
    "plt.title('Histograma Hipergeométrica')\n",
    "plt.show()"
   ]
  },
  {
   "cell_type": "markdown",
   "metadata": {},
   "source": [
    "**Ejemplo de aplicación**\n",
    "\n",
    "Como se mostró anteriormente, esta distribución puede ser usada en para calcular la probabilidad de juegos de azar. Por ejemplo, la extracción de 8 cartas de 40 totales, donde el objetivo es que salgan sólo \"A\". Al realizar la extracción, sin devolver las cartas seleccionadas, llamamos *r* a las cartas con la letra \"A\". Por lo tanto, *r* seguirá una distribución hipergeométrica con los siguientes parámetros y su respectiva resolución:\n",
    "\n",
    "|Parámetros|Resolución|\n",
    "|:----------:|:-------------:|\n",
    "| **N** = 40 <br/>**M** = 10 <br/>**n** = 8 <br/>**r** = 4 <br/> | $$p(4;8,40,10)=\\frac{ \\left(\\begin{array}{c} 10 \\\\ 4 \\end{array}\\right) . \\left(\\begin{array}{c} 30 \\\\ 4 \\end{array}\\right) }{ \\left(\\begin{array}{c} 40 \\\\ 8 \\end{array}\\right) } = 0,075 $$|"
   ]
  },
  {
   "cell_type": "markdown",
   "metadata": {},
   "source": [
    "### 2. Uniforme"
   ]
  },
  {
   "cell_type": "markdown",
   "metadata": {},
   "source": [
    "La distribución uniforme discreta se lo puede realizar en Python de la siguiente manera:"
   ]
  },
  {
   "cell_type": "code",
   "execution_count": 10,
   "metadata": {},
   "outputs": [
    {
     "data": {
      "image/png": "[encoded data removed]",
      "text/plain": [
       "<Figure size 432x288 with 1 Axes>"
      ]
     },
     "metadata": {
      "needs_background": "light"
     },
     "output_type": "display_data"
    }
   ],
   "source": [
    "a = 1\n",
    "b = 6\n",
    "x = np.arange(a, b + 1)\n",
    "uniforme_discreta = stats.randint(a, b + 1)\n",
    "\n",
    "uniforme_discreta_pmf = uniforme_discreta.pmf(x)\n",
    "\n",
    "\n",
    "plt.plot(x, uniforme_discreta_pmf, 'bo', ms=8)\n",
    "plt.plot(x, uniforme_discreta_pmf, '--', ms=8)\n",
    "plt.vlines(x, 0, uniforme_discreta_pmf, colors='b', lw=5, alpha=0.5)\n",
    "plt.xlabel('Valores')\n",
    "plt.ylabel('Probabilidad')\n",
    "plt.title('Distribución Uniforme Discreta')\n",
    "plt.show()"
   ]
  },
  {
   "cell_type": "markdown",
   "metadata": {},
   "source": [
    "Histograma:"
   ]
  },
  {
   "cell_type": "code",
   "execution_count": 14,
   "metadata": {},
   "outputs": [
    {
     "data": {
      "image/png": "[encoded data removed]",
      "text/plain": [
       "<Figure size 432x288 with 1 Axes>"
      ]
     },
     "metadata": {
      "needs_background": "light"
     },
     "output_type": "display_data"
    }
   ],
   "source": [
    "# histograma\n",
    "aleatorios = uniforme_discreta.rvs(1000)  # genera aleatorios\n",
    "cuenta, cajas, ignorar = plt.hist(aleatorios, 20)\n",
    "plt.ylabel('Frequencia')\n",
    "plt.xlabel('Valores')\n",
    "plt.title('Histograma Hipergeométrica')\n",
    "plt.show()"
   ]
  },
  {
   "cell_type": "markdown",
   "metadata": {},
   "source": [
    "**Ejemplo de aplicación**"
   ]
  },
  {
   "cell_type": "markdown",
   "metadata": {},
   "source": [
    "El temario para un examen consta de 35 temas, de los cuales se elegirá uno al azar. Si un alumno no ha estudiado los 10 últimos temas ¿Cuál es la probabilidad de que el alumno sepa el tema elegido para el examen?\n",
    "\n",
    "Sea X la variable aleatoria que representa el número de tema seleccionado para el examen, como todos los temas tienen la misma probabilidad de ser seleccionado, X sigue una distribución uniforme discreta de 35 elementos.\n",
    "\n",
    "Por la tanto, la representación de la fórmula quedaría de la siguiente manera:\n",
    "\n",
    "$$\n",
    "p(x;35) = \\left\\{\n",
    "\t\\begin{array}{ll}\n",
    "            0  & \\mbox{si } x \\neq x_{i} & i = 1, 2, ..., k\\\\\n",
    "            \\frac{1}{35} & \\mbox{si } x = x_{i} & i = 1, 2, ..., k\n",
    "\t\\end{array}\n",
    "\\right.\n",
    "$$"
   ]
  },
  {
   "cell_type": "markdown",
   "metadata": {},
   "source": [
    "### 3. Binomial Negativa"
   ]
  },
  {
   "cell_type": "markdown",
   "metadata": {},
   "source": [
    "La distribución uniforme discreta se lo puede realizar en Python de la siguiente manera:"
   ]
  },
  {
   "cell_type": "code",
   "execution_count": 25,
   "metadata": {},
   "outputs": [
    {
     "data": {
      "image/png": "[encoded data removed]",
      "text/plain": [
       "<Figure size 432x288 with 1 Axes>"
      ]
     },
     "metadata": {
      "needs_background": "light"
     },
     "output_type": "display_data"
    }
   ],
   "source": [
    "x = np.arange(3, 30)\n",
    "r = 3\n",
    "p = 0.1\n",
    "\n",
    "binomial_negativa = stats.nbinom.pmf(x, r, p)\n",
    "\n",
    "plt.plot(x, binomial_negativa, 'bo', ms=8)\n",
    "plt.plot(x, binomial_negativa, '--', ms=8)\n",
    "plt.vlines(x, 0, binomial_negativa, colors='b', lw=5, alpha=0.5)\n",
    "plt.xlabel('Valores')\n",
    "plt.ylabel('Probabilidad')\n",
    "plt.title('Distribución Binomial Negativa')\n",
    "plt.show()"
   ]
  },
  {
   "cell_type": "markdown",
   "metadata": {},
   "source": [
    "Histograma:"
   ]
  },
  {
   "cell_type": "code",
   "execution_count": 26,
   "metadata": {},
   "outputs": [
    {
     "data": {
      "image/png": "[encoded data removed]",
      "text/plain": [
       "<Figure size 432x288 with 1 Axes>"
      ]
     },
     "metadata": {
      "needs_background": "light"
     },
     "output_type": "display_data"
    }
   ],
   "source": [
    "# histograma\n",
    "aleatorios = stats.nbinom.rvs(r, p, size=1000)  # genera aleatorios\n",
    "cuenta, cajas, ignorar = plt.hist(aleatorios, 20)\n",
    "plt.ylabel('Frequencia')\n",
    "plt.xlabel('Valores')\n",
    "plt.title('Histograma Hipergeométrica')\n",
    "plt.show()"
   ]
  },
  {
   "cell_type": "markdown",
   "metadata": {},
   "source": [
    "**Ejemplo de aplicación**\n",
    "\n",
    "Se sabe que la probabilidad de que un niño expuesto a una enfermedad contagiosa la contraiga es de 0,4. Calcula la probabilidad de que el décimo niño estudiado sea el tercero en contraer la enfermedad.\n",
    "\n",
    "Podemos enfocar el problema como una binomial negativa de parámetros X = 10, k=3 y p=0,4\n"
   ]
  },
  {
   "cell_type": "markdown",
   "metadata": {},
   "source": [
    "$$\n",
    "f(x)=\\left(\\begin{array}{c} 9 \\\\ 2 \\end{array}\\right) (0,4)^{3} (0,6)^{7} = 0,0645\n",
    "$$"
   ]
  },
  {
   "cell_type": "markdown",
   "metadata": {},
   "source": [
    "### D. Referencias\n",
    "\n",
    "Bibliografía\n",
    "Cañas, J. (2022). 4.4. Distribución binomial negativa. Proyecto Descartes. https://proyectodescartes.org/iCartesiLibri/materiales_didacticos/EstadisticaProbabilidadInferencia/VAdiscreta/4_4DistribucionBinomialNegativa.html\n",
    "\n",
    "Distribución binomial negativa. (2022). Soporte de Minitab 8. https://support.minitab.com/es-mx/minitab/18/help-and-how-to/probability-distributions-and-random-data/supporting-topics/distributions/negative-binomial-distribution/\n",
    "\n",
    "Lopez Briega, R. E. (2016). Distribuciones de probabilidad con Python. Raul E. Lopez Briega. https://relopezbriega.github.io/blog/2016/06/29/distribuciones-de-probabilidad-con-python/\n",
    "\n",
    "PyShark, M. (2022). Continuous and discrete uniform distribution in Python. PyShark. https://pyshark.com/continuous-and-discrete-uniform-distribution-in-python/"
   ]
  },
  {
   "cell_type": "code",
   "execution_count": null,
   "metadata": {},
   "outputs": [],
   "source": []
  }
 ],
 "metadata": {
  "kernelspec": {
   "display_name": "Python 3 (ipykernel)",
   "language": "python",
   "name": "python3"
  },
  "language_info": {
   "codemirror_mode": {
    "name": "ipython",
    "version": 3
   },
   "file_extension": ".py",
   "mimetype": "text/x-python",
   "name": "python",
   "nbconvert_exporter": "python",
   "pygments_lexer": "ipython3",
   "version": "3.10.4"
  }
 },
 "nbformat": 4,
 "nbformat_minor": 4
}
