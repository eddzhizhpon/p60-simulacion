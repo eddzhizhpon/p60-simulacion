{
 "cells": [
  {
   "cell_type": "markdown",
   "metadata": {},
   "source": [
    "# Prueba 2 - Prueba de Aleatoriedad\n",
    "\n",
    "> Estudiante: Eduardo Zhizhpon <br/>\n",
    "> Fecha: 25/05/2022"
   ]
  },
  {
   "cell_type": "markdown",
   "metadata": {},
   "source": [
    "### Importación de blbliotecas"
   ]
  },
  {
   "cell_type": "code",
   "execution_count": 43,
   "metadata": {},
   "outputs": [],
   "source": [
    "import numpy as np\n",
    "import random\n",
    "import matplotlib.pyplot as plt"
   ]
  },
  {
   "cell_type": "markdown",
   "metadata": {},
   "source": [
    "### Definición de funciones"
   ]
  },
  {
   "cell_type": "code",
   "execution_count": 99,
   "metadata": {},
   "outputs": [],
   "source": [
    "\"\"\"\n",
    "    Generador de Cuadrados Medios\n",
    "\"\"\"\n",
    "def mean_squares(xo, digits, iterations):\n",
    "    xn = xo\n",
    "    rn_list = []\n",
    "    for i in range(iterations):\n",
    "        xnn = xn**2\n",
    "        txnn = str(xnn).zfill(8)\n",
    "        tam = len(txnn)\n",
    "        ui = int(txnn[int(tam/2-digits/2):int(tam/2+digits/2)])\n",
    "        rn = ui / (int('9'*digits)+1)\n",
    "        rn_list.append(rn)\n",
    "        xn = ui\n",
    "    return rn_list\n",
    "\n",
    "\"\"\" \n",
    "    Generador de Congruencia Lineal\n",
    "\"\"\"\n",
    "def linear_congruence(xo, a, b, m, iterations):\n",
    "    xn = xo\n",
    "    rn_list = []\n",
    "    for i in range(iterations):\n",
    "        xnn = (a*xn+b) % m\n",
    "        ui = xnn/m\n",
    "        rn_list.append(ui)\n",
    "        xn = xnn\n",
    "    return rn_list\n",
    "\n",
    "\"\"\"\n",
    "    Generador Tausworthe\n",
    "\"\"\"\n",
    "\"\"\" Generador Tausworthe - Obtiene los segmentos de bits \"\"\"\n",
    "def get_bits(b, current_idx, l):\n",
    "    n = len(b)\n",
    "    end_idx = current_idx + l\n",
    "    next_idx = end_idx\n",
    "    remaining = end_idx - n if end_idx > n else None\n",
    "    if remaining:\n",
    "        bits = b[current_idx: n] + b[0:remaining]\n",
    "        next_idx = remaining\n",
    "    else:\n",
    "        bits = b[current_idx: end_idx]\n",
    "    if next_idx >= n:\n",
    "        next_idx = 0\n",
    "    return (bits, next_idx)\n",
    "\n",
    "\"\"\" Generador Tausworthe - Generación del conjunto de bits (b) \"\"\"\n",
    "def generate_bits(q, r, b_seed):\n",
    "    period = 2**q - 1\n",
    "    b = b_seed\n",
    "    for i in range(q, period):\n",
    "        b_n = int(b[i - r]) ^ int(b[i - q])\n",
    "        b += str(b_n)\n",
    "    return b\n",
    "\n",
    "\"\"\" Generador Tausworthe - Generación de números aleatorios \"\"\"\n",
    "def tausworthe(q, r, l, b_seed, iterations):\n",
    "    b = generate_bits(q, r, b_seed)\n",
    "    idx = 0\n",
    "    rn_list = []\n",
    "    for i in range(iterations):\n",
    "        bits, idx = get_bits(b, idx, l)\n",
    "        dec = int(bits, 2)\n",
    "        rn = dec/2**l\n",
    "        rn_list.append(rn)\n",
    "    return rn_list\n",
    "\n",
    "\"\"\"\n",
    "    Generador Random de Python\n",
    "\"\"\"\n",
    "def random_python(seed, iterations):\n",
    "    random.seed(seed)\n",
    "    return [random.random() for i in range(iterations)]\n",
    "\n",
    "def random_test(rn_list):\n",
    "    co = 0\n",
    "    last_n = None\n",
    "    n0 = 0\n",
    "    n1 = 0\n",
    "    for rn in rn_list:\n",
    "        n = None\n",
    "        if rn >= 0.5:\n",
    "            n = 1\n",
    "            n1 += 1\n",
    "        else:\n",
    "            n = 0\n",
    "            n0 += 1\n",
    "        if last_n != n:\n",
    "            co += 1\n",
    "        last_n = n\n",
    "    n = n0 + n1\n",
    "    uc0 = (( 2 * n0 * n1 ) / ( n )) + (1/2)\n",
    "    qc0 = ( 2 * (n0 * n1) * (2 * (n0 * n1) - n ) ) / ( n**2 * (n - 1) )\n",
    "    z0 = (co - uc0) / (qc0 ** 0.5)\n",
    "    return co, n0, n1, z0\n",
    "\n",
    "def random_test_resolve(z0, z_alpha_2 = 1.96):\n",
    "    if z0 > -z_alpha_2 and z0 < z_alpha_2:\n",
    "        return f'Son independientes con Z = {z0} ' \\\n",
    "            f'y Z_alpha/2 = {z_alpha_2}'\n",
    "    else:\n",
    "        return f'No independientes con Z = {z0} ' \\\n",
    "            f'y Z_alpha/2 = {z_alpha_2}'\n",
    "\n",
    "def plot_random_test(n0, n1, title='Title'):\n",
    "    fig = plt.figure(figsize=(6,6))\n",
    "    axes = fig.add_subplot(1, 1, 1)\n",
    "    y = ['Cantidad de 0', 'Cantidad de 1']\n",
    "    x = [n0, n1]\n",
    "    axes.pie(x, labels=x, autopct='%1.1f%%')\n",
    "    axes.set_title(title)\n",
    "    axes.legend(y)\n",
    "    plt.show()\n",
    "    \n",
    "#     rn_list = [1, 0, 0, 1, 0, 1, 1, 1, 0, 1, 0, 0, 1, 1, \n",
    "#                0, 1, 0, 0, 1, 0, 0, 1, 0, 0, 0, 1, 1, 1, \n",
    "#                1, 1, 1, 0, 0, 0, 0, 0, 0, 1, 1, 1, 1, 1, \n",
    "#                1, 1, 1, 0, 0, 0, 1, 1]"
   ]
  },
  {
   "cell_type": "markdown",
   "metadata": {},
   "source": [
    "### Generación de números pseudoaleatorios"
   ]
  },
  {
   "cell_type": "code",
   "execution_count": 7,
   "metadata": {},
   "outputs": [],
   "source": [
    "iterations = 100\n",
    "\n",
    "# Cuadrados medios\n",
    "xo = 74731897457\n",
    "digits = 7\n",
    "mean_squares_rn = mean_squares(xo, digits, iterations)\n",
    "\n",
    "# Congruencia lineal\n",
    "xo = 7\n",
    "a = 74731897457\n",
    "b = 37747318974\n",
    "m = 19\n",
    "linear_congruence_rn = linear_congruence(xo, a, b, m, iterations)\n",
    "\n",
    "# Random de python\n",
    "seed = 1032022\n",
    "random_python_rn = random_python(seed, iterations)\n",
    "\n",
    "# Tausworthe\n",
    "q = 15\n",
    "r = 7\n",
    "l = 7\n",
    "b_seed = '1'*q\n",
    "tausworthe_rn = tausworthe(q, r, l, b_seed, iterations)"
   ]
  },
  {
   "cell_type": "markdown",
   "metadata": {},
   "source": [
    "### Pruebas de aletoriedad - Independencia"
   ]
  },
  {
   "cell_type": "markdown",
   "metadata": {},
   "source": [
    "**Cuadrados medios**"
   ]
  },
  {
   "cell_type": "code",
   "execution_count": 108,
   "metadata": {},
   "outputs": [
    {
     "name": "stdout",
     "output_type": "stream",
     "text": [
      "c0 = 49 , n0 = 41 , n1 = 59 , z = 0.02493838832056819\n",
      "\n",
      "Son independientes con Z = 0.02493838832056819 y Z_alpha/2 = 1.96\n"
     ]
    },
    {
     "data": {
      "image/png": "[encoded data removed]",
      "text/plain": [
       "<Figure size 432x432 with 1 Axes>"
      ]
     },
     "metadata": {},
     "output_type": "display_data"
    }
   ],
   "source": [
    "# Cuadrados medios\n",
    "co, n0, n1, z0 = random_test(mean_squares_rn)\n",
    "print('c0 =', co, ', n0 =', n0, ', n1 =', n1, ', z =', z0)\n",
    "print()\n",
    "print(random_test_resolve(z0))\n",
    "plot_random_test(n0, n1, title='Cuadrados Medios')"
   ]
  },
  {
   "cell_type": "markdown",
   "metadata": {},
   "source": [
    "**Congruencia Lineal**"
   ]
  },
  {
   "cell_type": "code",
   "execution_count": 102,
   "metadata": {},
   "outputs": [
    {
     "name": "stdout",
     "output_type": "stream",
     "text": [
      "co = 45 , n0 = 44 , n1 = 56 , z = -0.9750491625213825\n",
      "\n",
      "Son independientes con Z = -0.9750491625213825 y Z_alpha/2 = 1.96\n"
     ]
    },
    {
     "data": {
      "image/png": "[encoded data removed]",
      "text/plain": [
       "<Figure size 432x432 with 1 Axes>"
      ]
     },
     "metadata": {},
     "output_type": "display_data"
    }
   ],
   "source": [
    "# Congruencia lineal\n",
    "co, n0, n1, z0 = random_test(linear_congruence_rn)\n",
    "print('c0 =', co, ', n0 =', n0, ', n1 =', n1, ', z =', z0)\n",
    "print()\n",
    "print(random_test_resolve(z0))\n",
    "plot_random_test(n0, n1, title='Congruencia Lineal')"
   ]
  },
  {
   "cell_type": "markdown",
   "metadata": {},
   "source": [
    "**Random de Python**"
   ]
  },
  {
   "cell_type": "code",
   "execution_count": 106,
   "metadata": {},
   "outputs": [
    {
     "name": "stdout",
     "output_type": "stream",
     "text": [
      "c0 = 46 , n0 = 57 , n1 = 43 , z = -0.7218758774415761\n",
      "\n",
      "Son independientes con Z = -0.7218758774415761 y Z_alpha/2 = 1.96\n"
     ]
    },
    {
     "data": {
      "image/png": "[encoded data removed]",
      "text/plain": [
       "<Figure size 432x432 with 1 Axes>"
      ]
     },
     "metadata": {},
     "output_type": "display_data"
    }
   ],
   "source": [
    "# Random de python\n",
    "co, n0, n1, z0 = random_test(random_python_rn)\n",
    "print('c0 =', co, ', n0 =', n0, ', n1 =', n1, ', z =', z0)\n",
    "print()\n",
    "print(random_test_resolve(z0))\n",
    "plot_random_test(n0, n1, title='Random de Python')"
   ]
  },
  {
   "cell_type": "markdown",
   "metadata": {},
   "source": [
    "**Tausworthe**"
   ]
  },
  {
   "cell_type": "code",
   "execution_count": 107,
   "metadata": {},
   "outputs": [
    {
     "name": "stdout",
     "output_type": "stream",
     "text": [
      "c0 = 48 , n0 = 42 , n1 = 58 , z = -0.25175237171777376\n",
      "\n",
      "Son independientes con Z = -0.25175237171777376 y Z_alpha/2 = 1.96\n"
     ]
    },
    {
     "data": {
      "image/png": "[encoded data removed]",
      "text/plain": [
       "<Figure size 432x432 with 1 Axes>"
      ]
     },
     "metadata": {},
     "output_type": "display_data"
    }
   ],
   "source": [
    "# Tausworthe\n",
    "co, n0, n1, z0 = random_test(tausworthe_rn)\n",
    "print('c0 =', co, ', n0 =', n0, ', n1 =', n1, ', z =', z0)\n",
    "print()\n",
    "print(random_test_resolve(z0))\n",
    "plot_random_test(n0, n1, title='Tausworthe')"
   ]
  },
  {
   "cell_type": "markdown",
   "metadata": {},
   "source": [
    "**Conclusión**\n",
    "\n",
    "En conclusión, todos los generadores pasaron la prueba de aleatoriedad. A excepción de los números aleatorios generados con el módulo \"random\" de python, se puede observar que la cantidad de unos es superior a la de ceros."
   ]
  },
  {
   "cell_type": "code",
   "execution_count": null,
   "metadata": {},
   "outputs": [],
   "source": []
  }
 ],
 "metadata": {
  "kernelspec": {
   "display_name": "Python 3 (ipykernel)",
   "language": "python",
   "name": "python3"
  },
  "language_info": {
   "codemirror_mode": {
    "name": "ipython",
    "version": 3
   },
   "file_extension": ".py",
   "mimetype": "text/x-python",
   "name": "python",
   "nbconvert_exporter": "python",
   "pygments_lexer": "ipython3",
   "version": "3.10.4"
  }
 },
 "nbformat": 4,
 "nbformat_minor": 4
}
