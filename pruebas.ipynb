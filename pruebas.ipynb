{
  "nbformat": 4,
  "nbformat_minor": 0,
  "metadata": {
    "colab": {
      "name": "pruebas.ipynb",
      "provenance": [],
      "authorship_tag": "ABX9TyOEJORFX9BvDV4XdS/vpf5E",
      "include_colab_link": true
    },
    "kernelspec": {
      "name": "python3",
      "display_name": "Python 3"
    },
    "language_info": {
      "name": "python"
    }
  },
  "cells": [
    {
      "cell_type": "markdown",
      "metadata": {
        "id": "view-in-github",
        "colab_type": "text"
      },
      "source": [
        "<a href=\"https://colab.research.google.com/github/eddzhizhpon/p60-simulacion/blob/main/pruebas.ipynb\" target=\"_parent\"><img src=\"https://colab.research.google.com/assets/colab-badge.svg\" alt=\"Open In Colab\"/></a>"
      ]
    },
    {
      "cell_type": "code",
      "execution_count": 1,
      "metadata": {
        "colab": {
          "base_uri": "https://localhost:8080/"
        },
        "id": "atGsIi92tWiU",
        "outputId": "9f5f4d9a-8826-4f20-b9bf-69fc68991960"
      },
      "outputs": [
        {
          "output_type": "stream",
          "name": "stdout",
          "text": [
            "hola\n"
          ]
        }
      ],
      "source": [
        "def hola():\n",
        "  print(\"hola\")\n",
        "hola()"
      ]
    },
    {
      "cell_type": "code",
      "source": [
        "def prueba():\n",
        "  print(\"prueba\")\n",
        "prueba()"
      ],
      "metadata": {
        "colab": {
          "base_uri": "https://localhost:8080/"
        },
        "id": "V0RVWvBKuJRA",
        "outputId": "0561974e-4f26-4e36-af4f-596ff9bd871a"
      },
      "execution_count": 2,
      "outputs": [
        {
          "output_type": "stream",
          "name": "stdout",
          "text": [
            "prueba\n"
          ]
        }
      ]
    },
    {
      "cell_type": "code",
      "source": [
        ""
      ],
      "metadata": {
        "id": "g9HExaiuu57I"
      },
      "execution_count": null,
      "outputs": []
    }
  ]
}