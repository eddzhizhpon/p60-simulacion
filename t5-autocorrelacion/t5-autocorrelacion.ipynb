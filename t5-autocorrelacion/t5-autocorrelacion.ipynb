{
 "cells": [
  {
   "cell_type": "markdown",
   "metadata": {},
   "source": [
    "# Tarea 5 - Autocorrelación\n",
    "## Verificación de números pseudoaleatorios\n",
    "\n",
    "> Asignatura: Simulación<br/>\n",
    "> Estudiante: Eduardo Zhizhpon"
   ]
  },
  {
   "cell_type": "code",
   "execution_count": 104,
   "metadata": {},
   "outputs": [
    {
     "name": "stdout",
     "output_type": "stream",
     "text": [
      "Versión Python=['Python 3.10.4']\n"
     ]
    }
   ],
   "source": [
    "# Versión python\n",
    "VERSION = !python --version\n",
    "print(f'Versión Python={VERSION}')\n",
    "\n",
    "# Instalación de bibliotecas\n",
    "INSTALL = False\n",
    "\n",
    "LIB_NAMES = [\n",
    "    'pandas==1.4.1',\n",
    "    'scikit-learn==1.1.1',\n",
    "    'numpy==1.21.2', \n",
    "    'seaborn==0.11.2']\n",
    "if INSTALL: \n",
    "    for lib_name in LIB_NAMES:\n",
    "        !pip install {lib_name}"
   ]
  },
  {
   "cell_type": "code",
   "execution_count": 3,
   "metadata": {},
   "outputs": [],
   "source": [
    "# Importación de bibliotecas\n",
    "import os\n",
    "import pandas as pd\n",
    "import numpy as np\n",
    "import seaborn as sns \n",
    "from sklearn import linear_model\n",
    "from sklearn.model_selection import train_test_split"
   ]
  },
  {
   "cell_type": "markdown",
   "metadata": {},
   "source": [
    "## Definición de funciones"
   ]
  },
  {
   "cell_type": "code",
   "execution_count": 114,
   "metadata": {},
   "outputs": [],
   "source": [
    "def get_forest_dataframe():\n",
    "    dataset_name = 'forestfires.csv'\n",
    "    return pd.read_csv(dataset_name)\n",
    "\n",
    "def plot_scatter_from_dataframe(df, x, y, **kwargs):\n",
    "    return df.plot.scatter(x=x, y=y, **kwargs)\n",
    "    \n",
    "def print_linear_regression(\n",
    "    x, y, test_size = 0.4, random_state=1, ci=80, ax=None, **args):\n",
    "    X_train, X_test, y_train, y_test = train_test_split(\n",
    "        x, y, test_size=test_size, random_state=random_state)\n",
    "    model = linear_model.LinearRegression()\n",
    "    model.fit(X_train, y_train)\n",
    "    \n",
    "    # Coeficientes de la Regresión\n",
    "    print('Coeficientes: ', model.coef_)\n",
    "\n",
    "    # Valor de la varianza\n",
    "    print(f'Varianza: {model.score(X_test, y_test)}')\n",
    "    \n",
    "    # Gráfica usando \"seaborn\"\n",
    "    x_reshape = np.reshape(x, (1, -1))[0]\n",
    "    y_reshape = np.reshape(y, (1, -1))[0]   \n",
    "    data = {'X': x_reshape, 'Y': y_reshape}\n",
    "    data_df = pd.DataFrame(data=data)\n",
    "    ax = sns.regplot(data=data_df, x='X', y='Y', ci=ci, ax=ax, **args)\n",
    "    return ax\n",
    "\n",
    "def mean_product(x0, x1, digits, iterations):\n",
    "    ''' Generador de Productos Medios '''\n",
    "    rn_list = []\n",
    "    x1_next = None\n",
    "    x2_next = None\n",
    "    for i in range(iterations):\n",
    "        yi = str(x1_next * x2_next if x1_next and x2_next \\\n",
    "                 else x0 * x1).zfill(digits + 2)\n",
    "        length = len(yi)\n",
    "        x1_next = x2_next if x2_next else x1\n",
    "        x2_next = int(yi[int(length/2 - digits/2) \\\n",
    "                         :int(length/2 + digits/2)])\n",
    "        rn = x2_next / (int('9' * digits) + 1)\n",
    "        rn_list.append(rn)\n",
    "    return rn_list\n",
    "    \n",
    "def mean_squares(xo, digits, iterations):\n",
    "    ''' Generador de Cuadrados Medios '''\n",
    "    xn = xo\n",
    "    rn_list = []\n",
    "    for i in range(iterations):\n",
    "        xnn = xn**2\n",
    "        txnn = str(xnn).zfill(digits + 2)\n",
    "        tam = len(txnn)\n",
    "        ui = int(txnn[int(tam/2-digits/2):int(tam/2+digits/2)])\n",
    "        rn = ui / (int('9'*digits)+1)\n",
    "        rn_list.append(rn)\n",
    "        xn = ui\n",
    "    return rn_list\n",
    "\n",
    "def urand(iterations):\n",
    "    rn_list = []\n",
    "    for _ in range(iterations):\n",
    "        rn = os.urandom(1)\n",
    "        rn_list.append(rn)\n",
    "    return rn_list\n",
    "\n",
    "def __get_autocorr_z(rn_list, alpha, i, m, N):\n",
    "    M = int(((N - i) / m ) - 1)\n",
    "    if i + (M + 1) * m >= N:\n",
    "        raise Exception(\n",
    "            'No se cumple \"i + (M + 1) * m < N\"')\n",
    "    pim_list = []\n",
    "    for k in range(M + 1):\n",
    "        pim = rn_list[i + (k * m)] * rn_list[i + (k + 1) * m] \n",
    "        pim_list.append(pim)\n",
    "    pim = ((1 / (M + 1)) * sum(pim_list)) - 0.25\n",
    "    o_pim = pow(13 * M + 7, 0.5) / (12 * (M + 1))\n",
    "    Z = pim / o_pim\n",
    "    return Z\n",
    "    \n",
    "def autocorr(rn_list, alpha, z_alpha_2, i, m):\n",
    "    N = len(rn_list)\n",
    "    Z = __get_autocorr_z(rn_list, alpha, i, m, N)\n",
    "    if Z >= -z_alpha_2 and Z <= z_alpha_2:\n",
    "        return f'Son aleatorios con Z = {Z}'\n",
    "    else:\n",
    "        return f'No son aleatorios con Z = {Z}'"
   ]
  },
  {
   "cell_type": "markdown",
   "metadata": {},
   "source": [
    "## Ejercicio 1"
   ]
  },
  {
   "cell_type": "markdown",
   "metadata": {},
   "source": [
    "1. Dado el conjunto de datos Forest-Fires-Data (AVAC), realice el cálculo de la covarianza empleando Excel o Python. \n",
    "    - Deberá considerar las variables: viento (wind) y humedad relativa (rH). \n",
    "    - La descripción del archivo se encuentra en: Forest-Fires-Description"
   ]
  },
  {
   "cell_type": "code",
   "execution_count": 61,
   "metadata": {},
   "outputs": [
    {
     "name": "stdout",
     "output_type": "stream",
     "text": [
      "La covarianza entre \"wind\" y \"RH\" = 2.0292197082152548\n"
     ]
    }
   ],
   "source": [
    "forest_df = get_forest_dataframe()\n",
    "wind_rh_cov = forest_df['wind'].cov(other = forest_df['RH'])\n",
    "print(f'La covarianza entre \"wind\" y \"RH\" = {wind_rh_cov}')"
   ]
  },
  {
   "cell_type": "markdown",
   "metadata": {},
   "source": [
    "2. Deberá indicar la conclusión a la que ha llegado luego de haber obtenido el valor y graficar el diagrama de dispersión."
   ]
  },
  {
   "cell_type": "code",
   "execution_count": 96,
   "metadata": {},
   "outputs": [
    {
     "data": {
      "image/png": "[encoded data removed]",
      "text/plain": [
       "<Figure size 576x432 with 1 Axes>"
      ]
     },
     "metadata": {
      "needs_background": "light"
     },
     "output_type": "display_data"
    }
   ],
   "source": [
    "plot_scatter_from_dataframe(\n",
    "    forest_df, x='wind', y='RH', \n",
    "    title='Diagrama de Dispersión: \"wind\" y \"RH\"', \n",
    "    figsize=(8, 6))"
   ]
  },
  {
   "cell_type": "markdown",
   "metadata": {},
   "source": [
    "**Conclusión**\n",
    "\n",
    "El resultado de la covarianza entre los atributos \"wind\" y \"RH\" es positivo. Lo que quiere decir que su relación es proporcional, es decir, si una sube la otra también sube. De acuerdo con la descripción del dataset, \"wind\" hace referencia a la velocidad del viento, y \"RH\" al porcentaje relativo de humedad. Es por ello que el valor resultante es cercano a cero, lo que refleja que estas variables no tienen una relación fuerte.\n",
    "\n",
    "En la gráfica de dispersión se puede ver de mejor manera la relación entre los dos atributos analizados. En este se puede observar que la velocidad del viento puede estar presente en diferentes porcentajes de humedad. Además, se puede apreciar que existen velocidades bajas con un porcentaje de humedad alto. Lo que no se relaciona con el resultado positivo de la covarianza. Ya que este valor, no determina cuánto están relacionados, si no el comportamiento de los datos cuando sube o baja.\n"
   ]
  },
  {
   "cell_type": "markdown",
   "metadata": {},
   "source": [
    "## Ejercicio 2"
   ]
  },
  {
   "cell_type": "markdown",
   "metadata": {},
   "source": [
    "1. Dado el conjunto de datos Forest-Fires-Data (AVAC), realice el cálculo del coeficiente de correllación lineal de Pearson empleando Excel o Python. Deberá considerar las variables: viento (wind) y humedad relativa (rH)."
   ]
  },
  {
   "cell_type": "code",
   "execution_count": 8,
   "metadata": {},
   "outputs": [
    {
     "name": "stdout",
     "output_type": "stream",
     "text": [
      "Correlación (Pearson) entre \"wind\" y \"RH\" = 0.06941006715607254\n"
     ]
    }
   ],
   "source": [
    "forest_df = get_forest_dataframe()\n",
    "wind_rh_corr = forest_df['wind'].corr(\n",
    "    other=forest_df['RH'], method='pearson')\n",
    "print(f'Correlación (Pearson) entre \"wind\" y \"RH\" = {wind_rh_corr}')"
   ]
  },
  {
   "cell_type": "markdown",
   "metadata": {},
   "source": [
    "2. Deberá calcular también la regresión lineal e indicar la conclusión a la que ha llegado luego de haber obtenido el valor."
   ]
  },
  {
   "cell_type": "code",
   "execution_count": 115,
   "metadata": {},
   "outputs": [
    {
     "name": "stdout",
     "output_type": "stream",
     "text": [
      "Coeficientes:  [[0.3209567]]\n",
      "Varianza: -0.03249457981891535\n"
     ]
    },
    {
     "data": {
      "image/png": "[encoded data removed]",
      "text/plain": [
       "<Figure size 576x432 with 1 Axes>"
      ]
     },
     "metadata": {
      "needs_background": "light"
     },
     "output_type": "display_data"
    }
   ],
   "source": [
    "length = forest_df.shape[0]\n",
    "x = forest_df['wind'].values.reshape(length, 1)\n",
    "y = forest_df['RH'].values.reshape(length, 1)\n",
    "\n",
    "fig = plt.figure(figsize=(8, 6))\n",
    "ax = fig.add_subplot(1, 1, 1)\n",
    "ax = print_linear_regression(\n",
    "    x=x, y=y, test_size=0.3, ax=ax, ci=95, \n",
    "    line_kws={\"color\": \"red\"})\n",
    "ax.set_title('Regresión Lineal ')\n",
    "ax.set_xlabel('wind')\n",
    "ax.set_ylabel('RH')\n",
    "plt.show()"
   ]
  },
  {
   "cell_type": "markdown",
   "metadata": {},
   "source": [
    "**Conclusión**\n",
    "\n",
    "Al igual que el resultado de la covarianza en el Ejercicio 1, el resultado de la correlación, si bien es positivo, es un valor muy cercano a 0. A diferencia de la covarianza, esta medida estadística expresa un valor de relación que varía entre -1 a 1. Al ser un número cercano a 0, la relación entre los dos atributos es débil.\n",
    "\n",
    "En el cálculo de la regresión lineal da como resultado positivo, lo que la línea debería subir. Sin embargo, al tener un valor bajo, la línea apenas logra demostrar dicha relación. Lo que se relaciona con el resultado de covarianza y correlación calculados anteriormente."
   ]
  },
  {
   "cell_type": "markdown",
   "metadata": {},
   "source": [
    "## Ejercicio 3"
   ]
  },
  {
   "cell_type": "markdown",
   "metadata": {},
   "source": [
    "<ol type=\"1\">\n",
    "    <li>Aplicar el test de autocorrelación 100 números generados por:</li>\n",
    "    <ol type=\"a\">\n",
    "        <li>Productos medios (X0=7363423178943, X1=1324356789532, D=7=</li>\n",
    "        <li>Cuadrados medios (X0=7363423178943)</li>\n",
    "        <li>El generador Urand (ver el AVAC), x=7363423178943</li>\n",
    "        <li>RandomNumbers.txt (archivo cargado al AVAC)</li>\n",
    "    </ol>\n",
    "</ol>"
   ]
  },
  {
   "cell_type": "code",
   "execution_count": 109,
   "metadata": {},
   "outputs": [],
   "source": [
    "# Parámetros para el test de autocorrelación\n",
    "iterations = 100\n",
    "alpha = 0.05\n",
    "z_alpha_2 = 1.96\n",
    "i = 1\n",
    "m = 5"
   ]
  },
  {
   "cell_type": "markdown",
   "metadata": {},
   "source": [
    "A. Productos medios"
   ]
  },
  {
   "cell_type": "code",
   "execution_count": 110,
   "metadata": {},
   "outputs": [
    {
     "name": "stdout",
     "output_type": "stream",
     "text": [
      "Productos medios: Son aleatorios con Z = 1.439834864202049\n"
     ]
    }
   ],
   "source": [
    "digits = 7\n",
    "x0 = 7363423178943\n",
    "x1 = 1324356789532\n",
    "mean_product_rn = mean_product(\n",
    "    x0=x0, x1 = x1, digits=digits, iterations=iterations)\n",
    "print('Productos medios:', autocorr(\n",
    "    mean_product_rn, alpha=alpha, z_alpha_2=z_alpha_2, i=i, m=m))"
   ]
  },
  {
   "cell_type": "markdown",
   "metadata": {},
   "source": [
    "B. Cuadrados medios"
   ]
  },
  {
   "cell_type": "code",
   "execution_count": 111,
   "metadata": {},
   "outputs": [
    {
     "name": "stdout",
     "output_type": "stream",
     "text": [
      "Cuadrados medios: Son aleatorios con Z = -0.7277444721319294\n"
     ]
    }
   ],
   "source": [
    "digits = 7\n",
    "xo = 7363423178943\n",
    "mean_squares_rn = mean_squares(\n",
    "    xo=xo, digits=digits, iterations=iterations)\n",
    "print('Cuadrados medios:', autocorr(\n",
    "    mean_squares_rn, alpha=0.05, z_alpha_2=z_alpha_2, i=i, m=m))"
   ]
  },
  {
   "cell_type": "markdown",
   "metadata": {},
   "source": [
    "C. Generador Urand"
   ]
  },
  {
   "cell_type": "code",
   "execution_count": null,
   "metadata": {},
   "outputs": [],
   "source": []
  },
  {
   "cell_type": "markdown",
   "metadata": {},
   "source": [
    "D. RandomNumbers.txt"
   ]
  },
  {
   "cell_type": "code",
   "execution_count": null,
   "metadata": {},
   "outputs": [],
   "source": []
  },
  {
   "cell_type": "markdown",
   "metadata": {},
   "source": [
    "2. Deberá indicar si los números tienen autocorrelación o no, y esperificar el valor calculado, así como las conclusiones y su correspondiente gráfica de dispersión."
   ]
  },
  {
   "cell_type": "code",
   "execution_count": null,
   "metadata": {},
   "outputs": [],
   "source": []
  },
  {
   "cell_type": "markdown",
   "metadata": {},
   "source": [
    "**Conclusión**\n",
    "\n",
    "..."
   ]
  }
 ],
 "metadata": {
  "kernelspec": {
   "display_name": "Python 3 (ipykernel)",
   "language": "python",
   "name": "python3"
  },
  "language_info": {
   "codemirror_mode": {
    "name": "ipython",
    "version": 3
   },
   "file_extension": ".py",
   "mimetype": "text/x-python",
   "name": "python",
   "nbconvert_exporter": "python",
   "pygments_lexer": "ipython3",
   "version": "3.10.4"
  }
 },
 "nbformat": 4,
 "nbformat_minor": 4
}
