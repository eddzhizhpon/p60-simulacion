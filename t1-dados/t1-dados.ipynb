{
 "cells": [
  {
   "cell_type": "markdown",
   "metadata": {},
   "source": [
    "# Tarea 1 - Dados\n",
    "\n",
    "> Estudiante: Eduardo Zhizhpón<br/>\n",
    "> Asignatura: Simulación\n",
    "\n",
    "- Sumar las caras (2-12).\n",
    "- Simular si **un valor** es el que más se repite de manera pseudoaleatoria (1-6).\n",
    "- Con itiraciones de 100, 1000, 10000.\n",
    "- Hacer una barra de histogramas."
   ]
  },
  {
   "cell_type": "markdown",
   "metadata": {},
   "source": [
    "### Proceso"
   ]
  },
  {
   "cell_type": "code",
   "execution_count": 16,
   "metadata": {},
   "outputs": [],
   "source": [
    "from random import randrange\n",
    "import matplotlib.pyplot as plt\n",
    "\n",
    "# Obtención de dados\n",
    "def get_dice(n=100):\n",
    "    dice_result = dict()\n",
    "    for i in range(n):\n",
    "        d1 = randrange(1, 7)\n",
    "        d2 = randrange(1, 7)\n",
    "        d_sum = d1 + d2\n",
    "        try:\n",
    "            dice_result[str(d_sum)] += 1\n",
    "        except:\n",
    "            dice_result[str(d_sum)] = 1\n",
    "    return dice_result\n",
    "\n",
    "# Muestra del histograma\n",
    "def show_hist(dice_result):\n",
    "    fig = plt.figure()\n",
    "    ax = fig.add_axes([0, 0, 1, 1])\n",
    "    keys = dice_result.keys()\n",
    "    values = dice_result.values()\n",
    "\n",
    "    ax.bar(keys, values)\n",
    "    print()\n",
    "\n",
    "# Ejecuta e imprime los resultados\n",
    "def process_dice(n=100):\n",
    "    dice_result = get_dice(n)\n",
    "    print('Iteraciones realizadas =', sum(dice_result.values()))\n",
    "    print('Resultado:\\n', dice_result)\n",
    "    show_hist(dice_result)"
   ]
  },
  {
   "cell_type": "markdown",
   "metadata": {},
   "source": [
    "### 100 Iteraciones"
   ]
  },
  {
   "cell_type": "code",
   "execution_count": 17,
   "metadata": {},
   "outputs": [
    {
     "name": "stdout",
     "output_type": "stream",
     "text": [
      "Iteraciones realizadas = 100\n",
      "Resultado:\n",
      " {'10': 6, '7': 17, '8': 11, '3': 12, '5': 15, '6': 15, '9': 12, '11': 5, '12': 2, '4': 4, '2': 1}\n",
      "\n"
     ]
    },
    {
     "data": {
      "image/png": "[encoded data removed]",
      "text/plain": [
       "<Figure size 432x288 with 1 Axes>"
      ]
     },
     "metadata": {
      "needs_background": "light"
     },
     "output_type": "display_data"
    }
   ],
   "source": [
    "process_dice(100)"
   ]
  },
  {
   "cell_type": "markdown",
   "metadata": {},
   "source": [
    "### 1000 Iteraciones"
   ]
  },
  {
   "cell_type": "code",
   "execution_count": 14,
   "metadata": {},
   "outputs": [
    {
     "name": "stdout",
     "output_type": "stream",
     "text": [
      "Iteraciones realizadas = 1000\n",
      "Resultado:\n",
      " {'8': 123, '7': 155, '9': 127, '2': 30, '3': 66, '5': 124, '12': 29, '10': 90, '6': 150, '4': 72, '11': 34}\n",
      "\n"
     ]
    },
    {
     "data": {
      "image/png": "[encoded data removed]",
      "text/plain": [
       "<Figure size 432x288 with 1 Axes>"
      ]
     },
     "metadata": {
      "needs_background": "light"
     },
     "output_type": "display_data"
    }
   ],
   "source": [
    "process_dice(1000)"
   ]
  },
  {
   "cell_type": "markdown",
   "metadata": {},
   "source": [
    "### 10000 Iteraciones"
   ]
  },
  {
   "cell_type": "code",
   "execution_count": 15,
   "metadata": {},
   "outputs": [
    {
     "name": "stdout",
     "output_type": "stream",
     "text": [
      "Iteraciones realizadas = 10000\n",
      "Resultado:\n",
      " {'4': 837, '8': 1362, '7': 1685, '5': 1157, '11': 518, '9': 1131, '6': 1446, '2': 264, '10': 823, '3': 502, '12': 275}\n",
      "\n"
     ]
    },
    {
     "data": {
      "image/png": "[encoded data removed]",
      "text/plain": [
       "<Figure size 432x288 with 1 Axes>"
      ]
     },
     "metadata": {
      "needs_background": "light"
     },
     "output_type": "display_data"
    }
   ],
   "source": [
    "process_dice(10000)"
   ]
  },
  {
   "cell_type": "code",
   "execution_count": null,
   "metadata": {},
   "outputs": [],
   "source": []
  }
 ],
 "metadata": {
  "interpreter": {
   "hash": "8f3ce7673b31f3b9b33aea39e063123445a741d8586653d516da156e4b7eef69"
  },
  "kernelspec": {
   "display_name": "Python 3.10.4 ('p60')",
   "language": "python",
   "name": "python3"
  },
  "language_info": {
   "codemirror_mode": {
    "name": "ipython",
    "version": 3
   },
   "file_extension": ".py",
   "mimetype": "text/x-python",
   "name": "python",
   "nbconvert_exporter": "python",
   "pygments_lexer": "ipython3",
   "version": "3.10.4"
  },
  "orig_nbformat": 4
 },
 "nbformat": 4,
 "nbformat_minor": 2
}
